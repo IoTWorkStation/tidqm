{
 "cells": [
  {
   "cell_type": "code",
   "execution_count": 1,
   "metadata": {
    "collapsed": true,
    "pycharm": {
     "name": "#%%\n"
    }
   },
   "outputs": [],
   "source": [
    "import numpy as np\n",
    "import pandas as pd\n",
    "import matplotlib.pyplot as plt\n",
    "import seaborn as sns\n",
    "import klib as kl\n",
    "import os\n",
    "import warnings\n",
    "\n",
    "os.environ['KERAS_BACKEND']='tensorflow'\n",
    "os.environ[\"CUDA_VISIBLE_DEVICES\"]=\"0\"\n",
    "os.environ[\"KMP_DUPLICATE_LIB_OK\"]=\"TRUE\"\n",
    "warnings.filterwarnings('ignore')\n",
    "plt.rcParams['font.sans-serif'] = 'Kaiti'\n",
    "plt.rcParams['axes.unicode_minus'] = False\n",
    "PIC_PATH = \"../../models/image/image4\"\n",
    "DATA_PATH = '../../data'\n",
    "RESULT_PATH = '../../data/summary'"
   ]
  },
  {
   "cell_type": "code",
   "execution_count": 2,
   "outputs": [],
   "source": [
    "def create_dir(file_path):\n",
    "    if os.path.exists(file_path):\n",
    "        return\n",
    "    os.makedirs(file_path)\n",
    "\n",
    "count = 0\n",
    "\n",
    "def savefig():\n",
    "    global count\n",
    "    count += 1\n",
    "    PIC_NAME = PIC_PATH + f'/figure{count}.png'\n",
    "    plt.savefig(PIC_NAME)"
   ],
   "metadata": {
    "collapsed": false,
    "pycharm": {
     "name": "#%%\n"
    }
   }
  },
  {
   "cell_type": "code",
   "execution_count": 3,
   "outputs": [],
   "source": [
    "create_dir(PIC_PATH)"
   ],
   "metadata": {
    "collapsed": false,
    "pycharm": {
     "name": "#%%\n"
    }
   }
  },
  {
   "cell_type": "code",
   "execution_count": 4,
   "outputs": [
    {
     "data": {
      "text/plain": "            CreditScore  Gender  Age Status AssetStage  NumOfProducts  \\\nCustomerId                                                              \n15553251            713       1   52    新客户        高资产              1   \n15553256            619       1   41    老客户        低资产              3   \n15553283            603       1   42    老客户       中上资产              1   \n15553308            589       1   61    新客户        低资产              1   \n15553387            687       1   39    新客户        低资产              3   \n...                 ...     ...  ...    ...        ...            ...   \n15815628            711       1   37    老客户       中上资产              1   \n15815645            481       0   37    老客户        高资产              2   \n15815656            541       1   39    老客户       中上资产              1   \n15815660            758       1   34    新客户        高资产              1   \n15815690            614       1   40    新客户       中上资产              1   \n\n            HasCrCard  IsActiveMember  EstimatedSalary  Exited  \nCustomerId                                                      \n15553251            1               1         46369.57       1  \n15553256            1               1         79866.73       1  \n15553283            0               0        144675.30       1  \n15553308            1               0         61108.56       1  \n15553387            0               0        188150.60       1  \n...               ...             ...              ...     ...  \n15815628            0               0         80215.20       0  \n15815645            1               1        175082.20       0  \n15815656            1               1        199808.10       1  \n15815660            1               1         60728.89       0  \n15815690            1               1         77789.01       0  \n\n[9198 rows x 10 columns]",
      "text/html": "<div>\n<style scoped>\n    .dataframe tbody tr th:only-of-type {\n        vertical-align: middle;\n    }\n\n    .dataframe tbody tr th {\n        vertical-align: top;\n    }\n\n    .dataframe thead th {\n        text-align: right;\n    }\n</style>\n<table border=\"1\" class=\"dataframe\">\n  <thead>\n    <tr style=\"text-align: right;\">\n      <th></th>\n      <th>CreditScore</th>\n      <th>Gender</th>\n      <th>Age</th>\n      <th>Status</th>\n      <th>AssetStage</th>\n      <th>NumOfProducts</th>\n      <th>HasCrCard</th>\n      <th>IsActiveMember</th>\n      <th>EstimatedSalary</th>\n      <th>Exited</th>\n    </tr>\n    <tr>\n      <th>CustomerId</th>\n      <th></th>\n      <th></th>\n      <th></th>\n      <th></th>\n      <th></th>\n      <th></th>\n      <th></th>\n      <th></th>\n      <th></th>\n      <th></th>\n    </tr>\n  </thead>\n  <tbody>\n    <tr>\n      <th>15553251</th>\n      <td>713</td>\n      <td>1</td>\n      <td>52</td>\n      <td>新客户</td>\n      <td>高资产</td>\n      <td>1</td>\n      <td>1</td>\n      <td>1</td>\n      <td>46369.57</td>\n      <td>1</td>\n    </tr>\n    <tr>\n      <th>15553256</th>\n      <td>619</td>\n      <td>1</td>\n      <td>41</td>\n      <td>老客户</td>\n      <td>低资产</td>\n      <td>3</td>\n      <td>1</td>\n      <td>1</td>\n      <td>79866.73</td>\n      <td>1</td>\n    </tr>\n    <tr>\n      <th>15553283</th>\n      <td>603</td>\n      <td>1</td>\n      <td>42</td>\n      <td>老客户</td>\n      <td>中上资产</td>\n      <td>1</td>\n      <td>0</td>\n      <td>0</td>\n      <td>144675.30</td>\n      <td>1</td>\n    </tr>\n    <tr>\n      <th>15553308</th>\n      <td>589</td>\n      <td>1</td>\n      <td>61</td>\n      <td>新客户</td>\n      <td>低资产</td>\n      <td>1</td>\n      <td>1</td>\n      <td>0</td>\n      <td>61108.56</td>\n      <td>1</td>\n    </tr>\n    <tr>\n      <th>15553387</th>\n      <td>687</td>\n      <td>1</td>\n      <td>39</td>\n      <td>新客户</td>\n      <td>低资产</td>\n      <td>3</td>\n      <td>0</td>\n      <td>0</td>\n      <td>188150.60</td>\n      <td>1</td>\n    </tr>\n    <tr>\n      <th>...</th>\n      <td>...</td>\n      <td>...</td>\n      <td>...</td>\n      <td>...</td>\n      <td>...</td>\n      <td>...</td>\n      <td>...</td>\n      <td>...</td>\n      <td>...</td>\n      <td>...</td>\n    </tr>\n    <tr>\n      <th>15815628</th>\n      <td>711</td>\n      <td>1</td>\n      <td>37</td>\n      <td>老客户</td>\n      <td>中上资产</td>\n      <td>1</td>\n      <td>0</td>\n      <td>0</td>\n      <td>80215.20</td>\n      <td>0</td>\n    </tr>\n    <tr>\n      <th>15815645</th>\n      <td>481</td>\n      <td>0</td>\n      <td>37</td>\n      <td>老客户</td>\n      <td>高资产</td>\n      <td>2</td>\n      <td>1</td>\n      <td>1</td>\n      <td>175082.20</td>\n      <td>0</td>\n    </tr>\n    <tr>\n      <th>15815656</th>\n      <td>541</td>\n      <td>1</td>\n      <td>39</td>\n      <td>老客户</td>\n      <td>中上资产</td>\n      <td>1</td>\n      <td>1</td>\n      <td>1</td>\n      <td>199808.10</td>\n      <td>1</td>\n    </tr>\n    <tr>\n      <th>15815660</th>\n      <td>758</td>\n      <td>1</td>\n      <td>34</td>\n      <td>新客户</td>\n      <td>高资产</td>\n      <td>1</td>\n      <td>1</td>\n      <td>1</td>\n      <td>60728.89</td>\n      <td>0</td>\n    </tr>\n    <tr>\n      <th>15815690</th>\n      <td>614</td>\n      <td>1</td>\n      <td>40</td>\n      <td>新客户</td>\n      <td>中上资产</td>\n      <td>1</td>\n      <td>1</td>\n      <td>1</td>\n      <td>77789.01</td>\n      <td>0</td>\n    </tr>\n  </tbody>\n</table>\n<p>9198 rows × 10 columns</p>\n</div>"
     },
     "execution_count": 4,
     "metadata": {},
     "output_type": "execute_result"
    }
   ],
   "source": [
    "def read_excel(excel_path):\n",
    "    return pd.read_excel(excel_path, index_col=0)\n",
    "\n",
    "data = read_excel(RESULT_PATH + '/result3.xlsx')\n",
    "data"
   ],
   "metadata": {
    "collapsed": false,
    "pycharm": {
     "name": "#%%\n"
    }
   }
  },
  {
   "cell_type": "code",
   "execution_count": 4,
   "outputs": [],
   "source": [
    "\n"
   ],
   "metadata": {
    "collapsed": false,
    "pycharm": {
     "name": "#%%\n"
    }
   }
  },
  {
   "cell_type": "code",
   "execution_count": 5,
   "outputs": [],
   "source": [
    "MAP = {\n",
    "    'is_active': {\n",
    "        'Status': {\n",
    "            '新客户': 3,\n",
    "            '稳定客户': 4,\n",
    "            '老客户': 5,\n",
    "        },\n",
    "        'Asset': {\n",
    "            '低资产': 6,\n",
    "            '中下资产': 7,\n",
    "            '中上资产': 8,\n",
    "            '高资产': 9\n",
    "        },\n",
    "        'Card': {\n",
    "            '低资产': 6,\n",
    "            '中下资产': 7,\n",
    "            '中上资产': 9,\n",
    "            '高资产': 9\n",
    "        },\n",
    "    },\n",
    "    'not_active': {\n",
    "        'Status': {\n",
    "            '新客户': 0,\n",
    "            '稳定客户': 1,\n",
    "            '老客户': 2,\n",
    "        },\n",
    "        'Asset': {\n",
    "            '低资产': 0,\n",
    "            '中下资产': 1,\n",
    "            '中上资产': 2,\n",
    "            '高资产': 3\n",
    "        },\n",
    "        'Card': {\n",
    "            '低资产': 0,\n",
    "            '中下资产': 2,\n",
    "            '中上资产': 5,\n",
    "            '高资产': 5\n",
    "        },\n",
    "    }\n",
    "}"
   ],
   "metadata": {
    "collapsed": false,
    "pycharm": {
     "name": "#%%\n"
    }
   }
  },
  {
   "cell_type": "code",
   "execution_count": 6,
   "outputs": [
    {
     "data": {
      "text/plain": "            CreditScore  Gender  Age Status AssetStage  NumOfProducts  \\\nCustomerId                                                              \n15553251            713       1   52    新客户        高资产              1   \n15553256            619       1   41    老客户        低资产              3   \n15553283            603       1   42    老客户       中上资产              1   \n15553308            589       1   61    新客户        低资产              1   \n15553387            687       1   39    新客户        低资产              3   \n...                 ...     ...  ...    ...        ...            ...   \n15815628            711       1   37    老客户       中上资产              1   \n15815645            481       0   37    老客户        高资产              2   \n15815656            541       1   39    老客户       中上资产              1   \n15815660            758       1   34    新客户        高资产              1   \n15815690            614       1   40    新客户       中上资产              1   \n\n            HasCrCard  IsActiveMember  EstimatedSalary  Exited  \nCustomerId                                                      \n15553251            1               1         46369.57       1  \n15553256            1               1         79866.73       1  \n15553283            0               0        144675.30       1  \n15553308            1               0         61108.56       1  \n15553387            0               0        188150.60       1  \n...               ...             ...              ...     ...  \n15815628            0               0         80215.20       0  \n15815645            1               1        175082.20       0  \n15815656            1               1        199808.10       1  \n15815660            1               1         60728.89       0  \n15815690            1               1         77789.01       0  \n\n[9198 rows x 10 columns]",
      "text/html": "<div>\n<style scoped>\n    .dataframe tbody tr th:only-of-type {\n        vertical-align: middle;\n    }\n\n    .dataframe tbody tr th {\n        vertical-align: top;\n    }\n\n    .dataframe thead th {\n        text-align: right;\n    }\n</style>\n<table border=\"1\" class=\"dataframe\">\n  <thead>\n    <tr style=\"text-align: right;\">\n      <th></th>\n      <th>CreditScore</th>\n      <th>Gender</th>\n      <th>Age</th>\n      <th>Status</th>\n      <th>AssetStage</th>\n      <th>NumOfProducts</th>\n      <th>HasCrCard</th>\n      <th>IsActiveMember</th>\n      <th>EstimatedSalary</th>\n      <th>Exited</th>\n    </tr>\n    <tr>\n      <th>CustomerId</th>\n      <th></th>\n      <th></th>\n      <th></th>\n      <th></th>\n      <th></th>\n      <th></th>\n      <th></th>\n      <th></th>\n      <th></th>\n      <th></th>\n    </tr>\n  </thead>\n  <tbody>\n    <tr>\n      <th>15553251</th>\n      <td>713</td>\n      <td>1</td>\n      <td>52</td>\n      <td>新客户</td>\n      <td>高资产</td>\n      <td>1</td>\n      <td>1</td>\n      <td>1</td>\n      <td>46369.57</td>\n      <td>1</td>\n    </tr>\n    <tr>\n      <th>15553256</th>\n      <td>619</td>\n      <td>1</td>\n      <td>41</td>\n      <td>老客户</td>\n      <td>低资产</td>\n      <td>3</td>\n      <td>1</td>\n      <td>1</td>\n      <td>79866.73</td>\n      <td>1</td>\n    </tr>\n    <tr>\n      <th>15553283</th>\n      <td>603</td>\n      <td>1</td>\n      <td>42</td>\n      <td>老客户</td>\n      <td>中上资产</td>\n      <td>1</td>\n      <td>0</td>\n      <td>0</td>\n      <td>144675.30</td>\n      <td>1</td>\n    </tr>\n    <tr>\n      <th>15553308</th>\n      <td>589</td>\n      <td>1</td>\n      <td>61</td>\n      <td>新客户</td>\n      <td>低资产</td>\n      <td>1</td>\n      <td>1</td>\n      <td>0</td>\n      <td>61108.56</td>\n      <td>1</td>\n    </tr>\n    <tr>\n      <th>15553387</th>\n      <td>687</td>\n      <td>1</td>\n      <td>39</td>\n      <td>新客户</td>\n      <td>低资产</td>\n      <td>3</td>\n      <td>0</td>\n      <td>0</td>\n      <td>188150.60</td>\n      <td>1</td>\n    </tr>\n    <tr>\n      <th>...</th>\n      <td>...</td>\n      <td>...</td>\n      <td>...</td>\n      <td>...</td>\n      <td>...</td>\n      <td>...</td>\n      <td>...</td>\n      <td>...</td>\n      <td>...</td>\n      <td>...</td>\n    </tr>\n    <tr>\n      <th>15815628</th>\n      <td>711</td>\n      <td>1</td>\n      <td>37</td>\n      <td>老客户</td>\n      <td>中上资产</td>\n      <td>1</td>\n      <td>0</td>\n      <td>0</td>\n      <td>80215.20</td>\n      <td>0</td>\n    </tr>\n    <tr>\n      <th>15815645</th>\n      <td>481</td>\n      <td>0</td>\n      <td>37</td>\n      <td>老客户</td>\n      <td>高资产</td>\n      <td>2</td>\n      <td>1</td>\n      <td>1</td>\n      <td>175082.20</td>\n      <td>0</td>\n    </tr>\n    <tr>\n      <th>15815656</th>\n      <td>541</td>\n      <td>1</td>\n      <td>39</td>\n      <td>老客户</td>\n      <td>中上资产</td>\n      <td>1</td>\n      <td>1</td>\n      <td>1</td>\n      <td>199808.10</td>\n      <td>1</td>\n    </tr>\n    <tr>\n      <th>15815660</th>\n      <td>758</td>\n      <td>1</td>\n      <td>34</td>\n      <td>新客户</td>\n      <td>高资产</td>\n      <td>1</td>\n      <td>1</td>\n      <td>1</td>\n      <td>60728.89</td>\n      <td>0</td>\n    </tr>\n    <tr>\n      <th>15815690</th>\n      <td>614</td>\n      <td>1</td>\n      <td>40</td>\n      <td>新客户</td>\n      <td>中上资产</td>\n      <td>1</td>\n      <td>1</td>\n      <td>1</td>\n      <td>77789.01</td>\n      <td>0</td>\n    </tr>\n  </tbody>\n</table>\n<p>9198 rows × 10 columns</p>\n</div>"
     },
     "execution_count": 6,
     "metadata": {},
     "output_type": "execute_result"
    }
   ],
   "source": [
    "copy = data.copy()\n",
    "copy"
   ],
   "metadata": {
    "collapsed": false,
    "pycharm": {
     "name": "#%%\n"
    }
   }
  },
  {
   "cell_type": "code",
   "execution_count": 7,
   "outputs": [
    {
     "data": {
      "text/plain": "            CreditScore  Gender  Age Status AssetStage  NumOfProducts  \\\nCustomerId                                                              \n15553251            713       1   52    新客户        高资产              1   \n15553256            619       1   41    老客户        低资产              3   \n15553670            635       1   32    老客户        低资产              2   \n15553727            613       1   51    老客户        高资产              1   \n15553901            678       1   28   稳定客户        低资产              2   \n...                 ...     ...  ...    ...        ...            ...   \n15815626            640       0   63    新客户       中下资产              2   \n15815645            481       0   37    老客户        高资产              2   \n15815656            541       1   39    老客户       中上资产              1   \n15815660            758       1   34    新客户        高资产              1   \n15815690            614       1   40    新客户       中上资产              1   \n\n            HasCrCard  IsActiveMember  EstimatedSalary  Exited  \nCustomerId                                                      \n15553251            1               1         46369.57       1  \n15553256            1               1         79866.73       1  \n15553670            1               1         19367.98       1  \n15553727            1               1         53630.90       1  \n15553901            1               1        144423.17       1  \n...               ...             ...              ...     ...  \n15815626            1               1        112503.24       1  \n15815645            1               1        175082.20       0  \n15815656            1               1        199808.10       1  \n15815660            1               1         60728.89       0  \n15815690            1               1         77789.01       0  \n\n[4745 rows x 10 columns]",
      "text/html": "<div>\n<style scoped>\n    .dataframe tbody tr th:only-of-type {\n        vertical-align: middle;\n    }\n\n    .dataframe tbody tr th {\n        vertical-align: top;\n    }\n\n    .dataframe thead th {\n        text-align: right;\n    }\n</style>\n<table border=\"1\" class=\"dataframe\">\n  <thead>\n    <tr style=\"text-align: right;\">\n      <th></th>\n      <th>CreditScore</th>\n      <th>Gender</th>\n      <th>Age</th>\n      <th>Status</th>\n      <th>AssetStage</th>\n      <th>NumOfProducts</th>\n      <th>HasCrCard</th>\n      <th>IsActiveMember</th>\n      <th>EstimatedSalary</th>\n      <th>Exited</th>\n    </tr>\n    <tr>\n      <th>CustomerId</th>\n      <th></th>\n      <th></th>\n      <th></th>\n      <th></th>\n      <th></th>\n      <th></th>\n      <th></th>\n      <th></th>\n      <th></th>\n      <th></th>\n    </tr>\n  </thead>\n  <tbody>\n    <tr>\n      <th>15553251</th>\n      <td>713</td>\n      <td>1</td>\n      <td>52</td>\n      <td>新客户</td>\n      <td>高资产</td>\n      <td>1</td>\n      <td>1</td>\n      <td>1</td>\n      <td>46369.57</td>\n      <td>1</td>\n    </tr>\n    <tr>\n      <th>15553256</th>\n      <td>619</td>\n      <td>1</td>\n      <td>41</td>\n      <td>老客户</td>\n      <td>低资产</td>\n      <td>3</td>\n      <td>1</td>\n      <td>1</td>\n      <td>79866.73</td>\n      <td>1</td>\n    </tr>\n    <tr>\n      <th>15553670</th>\n      <td>635</td>\n      <td>1</td>\n      <td>32</td>\n      <td>老客户</td>\n      <td>低资产</td>\n      <td>2</td>\n      <td>1</td>\n      <td>1</td>\n      <td>19367.98</td>\n      <td>1</td>\n    </tr>\n    <tr>\n      <th>15553727</th>\n      <td>613</td>\n      <td>1</td>\n      <td>51</td>\n      <td>老客户</td>\n      <td>高资产</td>\n      <td>1</td>\n      <td>1</td>\n      <td>1</td>\n      <td>53630.90</td>\n      <td>1</td>\n    </tr>\n    <tr>\n      <th>15553901</th>\n      <td>678</td>\n      <td>1</td>\n      <td>28</td>\n      <td>稳定客户</td>\n      <td>低资产</td>\n      <td>2</td>\n      <td>1</td>\n      <td>1</td>\n      <td>144423.17</td>\n      <td>1</td>\n    </tr>\n    <tr>\n      <th>...</th>\n      <td>...</td>\n      <td>...</td>\n      <td>...</td>\n      <td>...</td>\n      <td>...</td>\n      <td>...</td>\n      <td>...</td>\n      <td>...</td>\n      <td>...</td>\n      <td>...</td>\n    </tr>\n    <tr>\n      <th>15815626</th>\n      <td>640</td>\n      <td>0</td>\n      <td>63</td>\n      <td>新客户</td>\n      <td>中下资产</td>\n      <td>2</td>\n      <td>1</td>\n      <td>1</td>\n      <td>112503.24</td>\n      <td>1</td>\n    </tr>\n    <tr>\n      <th>15815645</th>\n      <td>481</td>\n      <td>0</td>\n      <td>37</td>\n      <td>老客户</td>\n      <td>高资产</td>\n      <td>2</td>\n      <td>1</td>\n      <td>1</td>\n      <td>175082.20</td>\n      <td>0</td>\n    </tr>\n    <tr>\n      <th>15815656</th>\n      <td>541</td>\n      <td>1</td>\n      <td>39</td>\n      <td>老客户</td>\n      <td>中上资产</td>\n      <td>1</td>\n      <td>1</td>\n      <td>1</td>\n      <td>199808.10</td>\n      <td>1</td>\n    </tr>\n    <tr>\n      <th>15815660</th>\n      <td>758</td>\n      <td>1</td>\n      <td>34</td>\n      <td>新客户</td>\n      <td>高资产</td>\n      <td>1</td>\n      <td>1</td>\n      <td>1</td>\n      <td>60728.89</td>\n      <td>0</td>\n    </tr>\n    <tr>\n      <th>15815690</th>\n      <td>614</td>\n      <td>1</td>\n      <td>40</td>\n      <td>新客户</td>\n      <td>中上资产</td>\n      <td>1</td>\n      <td>1</td>\n      <td>1</td>\n      <td>77789.01</td>\n      <td>0</td>\n    </tr>\n  </tbody>\n</table>\n<p>4745 rows × 10 columns</p>\n</div>"
     },
     "execution_count": 7,
     "metadata": {},
     "output_type": "execute_result"
    }
   ],
   "source": [
    "active_group = data.groupby('IsActiveMember')\n",
    "\n",
    "active = active_group.get_group(1)\n",
    "active"
   ],
   "metadata": {
    "collapsed": false,
    "pycharm": {
     "name": "#%%\n"
    }
   }
  },
  {
   "cell_type": "code",
   "execution_count": 8,
   "outputs": [
    {
     "data": {
      "text/plain": "            CreditScore  Gender  Age Status AssetStage  NumOfProducts  \\\nCustomerId                                                              \n15553251            713       1   52    新客户        高资产              1   \n15553256            619       1   41    老客户        低资产              3   \n15553283            603       1   42    老客户       中上资产              1   \n15553308            589       1   61    新客户        低资产              1   \n15553387            687       1   39    新客户        低资产              3   \n...                 ...     ...  ...    ...        ...            ...   \n15815628            711       1   37    老客户       中上资产              1   \n15815645            481       0   37    老客户        高资产              2   \n15815656            541       1   39    老客户       中上资产              1   \n15815660            758       1   34    新客户        高资产              1   \n15815690            614       1   40    新客户       中上资产              1   \n\n            HasCrCard  IsActiveMember  EstimatedSalary  Exited  \\\nCustomerId                                                       \n15553251            1               1         46369.57       1   \n15553256            1               1         79866.73       1   \n15553283            0               0        144675.30       1   \n15553308            1               0         61108.56       1   \n15553387            0               0        188150.60       1   \n...               ...             ...              ...     ...   \n15815628            0               0         80215.20       0   \n15815645            1               1        175082.20       0   \n15815656            1               1        199808.10       1   \n15815660            1               1         60728.89       0   \n15815690            1               1         77789.01       0   \n\n            IsActiveStatus  IsActiveAssetStage  CrCardAssetStage  \nCustomerId                                                        \n15553251               NaN                 NaN               NaN  \n15553256               NaN                 NaN               NaN  \n15553283               NaN                 NaN               NaN  \n15553308               NaN                 NaN               NaN  \n15553387               NaN                 NaN               NaN  \n...                    ...                 ...               ...  \n15815628               NaN                 NaN               NaN  \n15815645               NaN                 NaN               NaN  \n15815656               NaN                 NaN               NaN  \n15815660               NaN                 NaN               NaN  \n15815690               NaN                 NaN               NaN  \n\n[9198 rows x 13 columns]",
      "text/html": "<div>\n<style scoped>\n    .dataframe tbody tr th:only-of-type {\n        vertical-align: middle;\n    }\n\n    .dataframe tbody tr th {\n        vertical-align: top;\n    }\n\n    .dataframe thead th {\n        text-align: right;\n    }\n</style>\n<table border=\"1\" class=\"dataframe\">\n  <thead>\n    <tr style=\"text-align: right;\">\n      <th></th>\n      <th>CreditScore</th>\n      <th>Gender</th>\n      <th>Age</th>\n      <th>Status</th>\n      <th>AssetStage</th>\n      <th>NumOfProducts</th>\n      <th>HasCrCard</th>\n      <th>IsActiveMember</th>\n      <th>EstimatedSalary</th>\n      <th>Exited</th>\n      <th>IsActiveStatus</th>\n      <th>IsActiveAssetStage</th>\n      <th>CrCardAssetStage</th>\n    </tr>\n    <tr>\n      <th>CustomerId</th>\n      <th></th>\n      <th></th>\n      <th></th>\n      <th></th>\n      <th></th>\n      <th></th>\n      <th></th>\n      <th></th>\n      <th></th>\n      <th></th>\n      <th></th>\n      <th></th>\n      <th></th>\n    </tr>\n  </thead>\n  <tbody>\n    <tr>\n      <th>15553251</th>\n      <td>713</td>\n      <td>1</td>\n      <td>52</td>\n      <td>新客户</td>\n      <td>高资产</td>\n      <td>1</td>\n      <td>1</td>\n      <td>1</td>\n      <td>46369.57</td>\n      <td>1</td>\n      <td>NaN</td>\n      <td>NaN</td>\n      <td>NaN</td>\n    </tr>\n    <tr>\n      <th>15553256</th>\n      <td>619</td>\n      <td>1</td>\n      <td>41</td>\n      <td>老客户</td>\n      <td>低资产</td>\n      <td>3</td>\n      <td>1</td>\n      <td>1</td>\n      <td>79866.73</td>\n      <td>1</td>\n      <td>NaN</td>\n      <td>NaN</td>\n      <td>NaN</td>\n    </tr>\n    <tr>\n      <th>15553283</th>\n      <td>603</td>\n      <td>1</td>\n      <td>42</td>\n      <td>老客户</td>\n      <td>中上资产</td>\n      <td>1</td>\n      <td>0</td>\n      <td>0</td>\n      <td>144675.30</td>\n      <td>1</td>\n      <td>NaN</td>\n      <td>NaN</td>\n      <td>NaN</td>\n    </tr>\n    <tr>\n      <th>15553308</th>\n      <td>589</td>\n      <td>1</td>\n      <td>61</td>\n      <td>新客户</td>\n      <td>低资产</td>\n      <td>1</td>\n      <td>1</td>\n      <td>0</td>\n      <td>61108.56</td>\n      <td>1</td>\n      <td>NaN</td>\n      <td>NaN</td>\n      <td>NaN</td>\n    </tr>\n    <tr>\n      <th>15553387</th>\n      <td>687</td>\n      <td>1</td>\n      <td>39</td>\n      <td>新客户</td>\n      <td>低资产</td>\n      <td>3</td>\n      <td>0</td>\n      <td>0</td>\n      <td>188150.60</td>\n      <td>1</td>\n      <td>NaN</td>\n      <td>NaN</td>\n      <td>NaN</td>\n    </tr>\n    <tr>\n      <th>...</th>\n      <td>...</td>\n      <td>...</td>\n      <td>...</td>\n      <td>...</td>\n      <td>...</td>\n      <td>...</td>\n      <td>...</td>\n      <td>...</td>\n      <td>...</td>\n      <td>...</td>\n      <td>...</td>\n      <td>...</td>\n      <td>...</td>\n    </tr>\n    <tr>\n      <th>15815628</th>\n      <td>711</td>\n      <td>1</td>\n      <td>37</td>\n      <td>老客户</td>\n      <td>中上资产</td>\n      <td>1</td>\n      <td>0</td>\n      <td>0</td>\n      <td>80215.20</td>\n      <td>0</td>\n      <td>NaN</td>\n      <td>NaN</td>\n      <td>NaN</td>\n    </tr>\n    <tr>\n      <th>15815645</th>\n      <td>481</td>\n      <td>0</td>\n      <td>37</td>\n      <td>老客户</td>\n      <td>高资产</td>\n      <td>2</td>\n      <td>1</td>\n      <td>1</td>\n      <td>175082.20</td>\n      <td>0</td>\n      <td>NaN</td>\n      <td>NaN</td>\n      <td>NaN</td>\n    </tr>\n    <tr>\n      <th>15815656</th>\n      <td>541</td>\n      <td>1</td>\n      <td>39</td>\n      <td>老客户</td>\n      <td>中上资产</td>\n      <td>1</td>\n      <td>1</td>\n      <td>1</td>\n      <td>199808.10</td>\n      <td>1</td>\n      <td>NaN</td>\n      <td>NaN</td>\n      <td>NaN</td>\n    </tr>\n    <tr>\n      <th>15815660</th>\n      <td>758</td>\n      <td>1</td>\n      <td>34</td>\n      <td>新客户</td>\n      <td>高资产</td>\n      <td>1</td>\n      <td>1</td>\n      <td>1</td>\n      <td>60728.89</td>\n      <td>0</td>\n      <td>NaN</td>\n      <td>NaN</td>\n      <td>NaN</td>\n    </tr>\n    <tr>\n      <th>15815690</th>\n      <td>614</td>\n      <td>1</td>\n      <td>40</td>\n      <td>新客户</td>\n      <td>中上资产</td>\n      <td>1</td>\n      <td>1</td>\n      <td>1</td>\n      <td>77789.01</td>\n      <td>0</td>\n      <td>NaN</td>\n      <td>NaN</td>\n      <td>NaN</td>\n    </tr>\n  </tbody>\n</table>\n<p>9198 rows × 13 columns</p>\n</div>"
     },
     "execution_count": 8,
     "metadata": {},
     "output_type": "execute_result"
    }
   ],
   "source": [
    "copy[['IsActiveStatus', 'IsActiveAssetStage', 'CrCardAssetStage']] = np.nan\n",
    "copy"
   ],
   "metadata": {
    "collapsed": false,
    "pycharm": {
     "name": "#%%\n"
    }
   }
  },
  {
   "cell_type": "code",
   "execution_count": 9,
   "outputs": [
    {
     "data": {
      "text/plain": "            CreditScore  Gender  Age Status AssetStage  NumOfProducts  \\\nCustomerId                                                              \n15553251            713       1   52    新客户        高资产              1   \n15553256            619       1   41    老客户        低资产              3   \n15553283            603       1   42    老客户       中上资产              1   \n15553308            589       1   61    新客户        低资产              1   \n15553387            687       1   39    新客户        低资产              3   \n...                 ...     ...  ...    ...        ...            ...   \n15815628            711       1   37    老客户       中上资产              1   \n15815645            481       0   37    老客户        高资产              2   \n15815656            541       1   39    老客户       中上资产              1   \n15815660            758       1   34    新客户        高资产              1   \n15815690            614       1   40    新客户       中上资产              1   \n\n            HasCrCard  IsActiveMember  EstimatedSalary  Exited  \\\nCustomerId                                                       \n15553251            1               1         46369.57       1   \n15553256            1               1         79866.73       1   \n15553283            0               0        144675.30       1   \n15553308            1               0         61108.56       1   \n15553387            0               0        188150.60       1   \n...               ...             ...              ...     ...   \n15815628            0               0         80215.20       0   \n15815645            1               1        175082.20       0   \n15815656            1               1        199808.10       1   \n15815660            1               1         60728.89       0   \n15815690            1               1         77789.01       0   \n\n            IsActiveStatus  IsActiveAssetStage  CrCardAssetStage  \nCustomerId                                                        \n15553251               3.0                 9.0               9.0  \n15553256               5.0                 6.0               6.0  \n15553283               NaN                 NaN               NaN  \n15553308               NaN                 NaN               NaN  \n15553387               NaN                 NaN               NaN  \n...                    ...                 ...               ...  \n15815628               NaN                 NaN               NaN  \n15815645               5.0                 9.0               9.0  \n15815656               5.0                 8.0               9.0  \n15815660               3.0                 9.0               9.0  \n15815690               3.0                 8.0               9.0  \n\n[9198 rows x 13 columns]",
      "text/html": "<div>\n<style scoped>\n    .dataframe tbody tr th:only-of-type {\n        vertical-align: middle;\n    }\n\n    .dataframe tbody tr th {\n        vertical-align: top;\n    }\n\n    .dataframe thead th {\n        text-align: right;\n    }\n</style>\n<table border=\"1\" class=\"dataframe\">\n  <thead>\n    <tr style=\"text-align: right;\">\n      <th></th>\n      <th>CreditScore</th>\n      <th>Gender</th>\n      <th>Age</th>\n      <th>Status</th>\n      <th>AssetStage</th>\n      <th>NumOfProducts</th>\n      <th>HasCrCard</th>\n      <th>IsActiveMember</th>\n      <th>EstimatedSalary</th>\n      <th>Exited</th>\n      <th>IsActiveStatus</th>\n      <th>IsActiveAssetStage</th>\n      <th>CrCardAssetStage</th>\n    </tr>\n    <tr>\n      <th>CustomerId</th>\n      <th></th>\n      <th></th>\n      <th></th>\n      <th></th>\n      <th></th>\n      <th></th>\n      <th></th>\n      <th></th>\n      <th></th>\n      <th></th>\n      <th></th>\n      <th></th>\n      <th></th>\n    </tr>\n  </thead>\n  <tbody>\n    <tr>\n      <th>15553251</th>\n      <td>713</td>\n      <td>1</td>\n      <td>52</td>\n      <td>新客户</td>\n      <td>高资产</td>\n      <td>1</td>\n      <td>1</td>\n      <td>1</td>\n      <td>46369.57</td>\n      <td>1</td>\n      <td>3.0</td>\n      <td>9.0</td>\n      <td>9.0</td>\n    </tr>\n    <tr>\n      <th>15553256</th>\n      <td>619</td>\n      <td>1</td>\n      <td>41</td>\n      <td>老客户</td>\n      <td>低资产</td>\n      <td>3</td>\n      <td>1</td>\n      <td>1</td>\n      <td>79866.73</td>\n      <td>1</td>\n      <td>5.0</td>\n      <td>6.0</td>\n      <td>6.0</td>\n    </tr>\n    <tr>\n      <th>15553283</th>\n      <td>603</td>\n      <td>1</td>\n      <td>42</td>\n      <td>老客户</td>\n      <td>中上资产</td>\n      <td>1</td>\n      <td>0</td>\n      <td>0</td>\n      <td>144675.30</td>\n      <td>1</td>\n      <td>NaN</td>\n      <td>NaN</td>\n      <td>NaN</td>\n    </tr>\n    <tr>\n      <th>15553308</th>\n      <td>589</td>\n      <td>1</td>\n      <td>61</td>\n      <td>新客户</td>\n      <td>低资产</td>\n      <td>1</td>\n      <td>1</td>\n      <td>0</td>\n      <td>61108.56</td>\n      <td>1</td>\n      <td>NaN</td>\n      <td>NaN</td>\n      <td>NaN</td>\n    </tr>\n    <tr>\n      <th>15553387</th>\n      <td>687</td>\n      <td>1</td>\n      <td>39</td>\n      <td>新客户</td>\n      <td>低资产</td>\n      <td>3</td>\n      <td>0</td>\n      <td>0</td>\n      <td>188150.60</td>\n      <td>1</td>\n      <td>NaN</td>\n      <td>NaN</td>\n      <td>NaN</td>\n    </tr>\n    <tr>\n      <th>...</th>\n      <td>...</td>\n      <td>...</td>\n      <td>...</td>\n      <td>...</td>\n      <td>...</td>\n      <td>...</td>\n      <td>...</td>\n      <td>...</td>\n      <td>...</td>\n      <td>...</td>\n      <td>...</td>\n      <td>...</td>\n      <td>...</td>\n    </tr>\n    <tr>\n      <th>15815628</th>\n      <td>711</td>\n      <td>1</td>\n      <td>37</td>\n      <td>老客户</td>\n      <td>中上资产</td>\n      <td>1</td>\n      <td>0</td>\n      <td>0</td>\n      <td>80215.20</td>\n      <td>0</td>\n      <td>NaN</td>\n      <td>NaN</td>\n      <td>NaN</td>\n    </tr>\n    <tr>\n      <th>15815645</th>\n      <td>481</td>\n      <td>0</td>\n      <td>37</td>\n      <td>老客户</td>\n      <td>高资产</td>\n      <td>2</td>\n      <td>1</td>\n      <td>1</td>\n      <td>175082.20</td>\n      <td>0</td>\n      <td>5.0</td>\n      <td>9.0</td>\n      <td>9.0</td>\n    </tr>\n    <tr>\n      <th>15815656</th>\n      <td>541</td>\n      <td>1</td>\n      <td>39</td>\n      <td>老客户</td>\n      <td>中上资产</td>\n      <td>1</td>\n      <td>1</td>\n      <td>1</td>\n      <td>199808.10</td>\n      <td>1</td>\n      <td>5.0</td>\n      <td>8.0</td>\n      <td>9.0</td>\n    </tr>\n    <tr>\n      <th>15815660</th>\n      <td>758</td>\n      <td>1</td>\n      <td>34</td>\n      <td>新客户</td>\n      <td>高资产</td>\n      <td>1</td>\n      <td>1</td>\n      <td>1</td>\n      <td>60728.89</td>\n      <td>0</td>\n      <td>3.0</td>\n      <td>9.0</td>\n      <td>9.0</td>\n    </tr>\n    <tr>\n      <th>15815690</th>\n      <td>614</td>\n      <td>1</td>\n      <td>40</td>\n      <td>新客户</td>\n      <td>中上资产</td>\n      <td>1</td>\n      <td>1</td>\n      <td>1</td>\n      <td>77789.01</td>\n      <td>0</td>\n      <td>3.0</td>\n      <td>8.0</td>\n      <td>9.0</td>\n    </tr>\n  </tbody>\n</table>\n<p>9198 rows × 13 columns</p>\n</div>"
     },
     "execution_count": 9,
     "metadata": {},
     "output_type": "execute_result"
    }
   ],
   "source": [
    "copy['IsActiveStatus'].loc[active.index] = active['Status'].map(MAP['is_active']['Status'])\n",
    "copy['IsActiveAssetStage'].loc[active.index] = active['AssetStage'].map(MAP['is_active']['Asset'])\n",
    "copy['CrCardAssetStage'].loc[active.index] = active['AssetStage'].map(MAP['is_active']['Card'])\n",
    "\n",
    "copy"
   ],
   "metadata": {
    "collapsed": false,
    "pycharm": {
     "name": "#%%\n"
    }
   }
  },
  {
   "cell_type": "code",
   "execution_count": 10,
   "outputs": [
    {
     "data": {
      "text/plain": "            CreditScore  Gender  Age Status AssetStage  NumOfProducts  \\\nCustomerId                                                              \n15553283            603       1   42    老客户       中上资产              1   \n15553308            589       1   61    新客户        低资产              1   \n15553387            687       1   39    新客户        低资产              3   \n15553444            480       0   44    老客户        高资产              1   \n15553496            717       1   42   稳定客户        高资产              1   \n...                 ...     ...  ...    ...        ...            ...   \n15815428            823       0   34    新客户       中上资产              1   \n15815443            527       1   46    老客户        高资产              1   \n15815490            670       0   40    新客户        高资产              3   \n15815530            612       1   42    老客户       中下资产              1   \n15815628            711       1   37    老客户       中上资产              1   \n\n            HasCrCard  IsActiveMember  EstimatedSalary  Exited  \nCustomerId                                                      \n15553283            0               0        144675.30       1  \n15553308            1               0         61108.56       1  \n15553387            0               0        188150.60       1  \n15553444            1               0          5472.70       1  \n15553496            1               0         99347.80       1  \n...               ...             ...              ...     ...  \n15815428            1               0          9217.92       0  \n15815443            1               0         54947.51       0  \n15815490            0               0        177028.00       1  \n15815530            0               0        149682.78       0  \n15815628            0               0         80215.20       0  \n\n[4453 rows x 10 columns]",
      "text/html": "<div>\n<style scoped>\n    .dataframe tbody tr th:only-of-type {\n        vertical-align: middle;\n    }\n\n    .dataframe tbody tr th {\n        vertical-align: top;\n    }\n\n    .dataframe thead th {\n        text-align: right;\n    }\n</style>\n<table border=\"1\" class=\"dataframe\">\n  <thead>\n    <tr style=\"text-align: right;\">\n      <th></th>\n      <th>CreditScore</th>\n      <th>Gender</th>\n      <th>Age</th>\n      <th>Status</th>\n      <th>AssetStage</th>\n      <th>NumOfProducts</th>\n      <th>HasCrCard</th>\n      <th>IsActiveMember</th>\n      <th>EstimatedSalary</th>\n      <th>Exited</th>\n    </tr>\n    <tr>\n      <th>CustomerId</th>\n      <th></th>\n      <th></th>\n      <th></th>\n      <th></th>\n      <th></th>\n      <th></th>\n      <th></th>\n      <th></th>\n      <th></th>\n      <th></th>\n    </tr>\n  </thead>\n  <tbody>\n    <tr>\n      <th>15553283</th>\n      <td>603</td>\n      <td>1</td>\n      <td>42</td>\n      <td>老客户</td>\n      <td>中上资产</td>\n      <td>1</td>\n      <td>0</td>\n      <td>0</td>\n      <td>144675.30</td>\n      <td>1</td>\n    </tr>\n    <tr>\n      <th>15553308</th>\n      <td>589</td>\n      <td>1</td>\n      <td>61</td>\n      <td>新客户</td>\n      <td>低资产</td>\n      <td>1</td>\n      <td>1</td>\n      <td>0</td>\n      <td>61108.56</td>\n      <td>1</td>\n    </tr>\n    <tr>\n      <th>15553387</th>\n      <td>687</td>\n      <td>1</td>\n      <td>39</td>\n      <td>新客户</td>\n      <td>低资产</td>\n      <td>3</td>\n      <td>0</td>\n      <td>0</td>\n      <td>188150.60</td>\n      <td>1</td>\n    </tr>\n    <tr>\n      <th>15553444</th>\n      <td>480</td>\n      <td>0</td>\n      <td>44</td>\n      <td>老客户</td>\n      <td>高资产</td>\n      <td>1</td>\n      <td>1</td>\n      <td>0</td>\n      <td>5472.70</td>\n      <td>1</td>\n    </tr>\n    <tr>\n      <th>15553496</th>\n      <td>717</td>\n      <td>1</td>\n      <td>42</td>\n      <td>稳定客户</td>\n      <td>高资产</td>\n      <td>1</td>\n      <td>1</td>\n      <td>0</td>\n      <td>99347.80</td>\n      <td>1</td>\n    </tr>\n    <tr>\n      <th>...</th>\n      <td>...</td>\n      <td>...</td>\n      <td>...</td>\n      <td>...</td>\n      <td>...</td>\n      <td>...</td>\n      <td>...</td>\n      <td>...</td>\n      <td>...</td>\n      <td>...</td>\n    </tr>\n    <tr>\n      <th>15815428</th>\n      <td>823</td>\n      <td>0</td>\n      <td>34</td>\n      <td>新客户</td>\n      <td>中上资产</td>\n      <td>1</td>\n      <td>1</td>\n      <td>0</td>\n      <td>9217.92</td>\n      <td>0</td>\n    </tr>\n    <tr>\n      <th>15815443</th>\n      <td>527</td>\n      <td>1</td>\n      <td>46</td>\n      <td>老客户</td>\n      <td>高资产</td>\n      <td>1</td>\n      <td>1</td>\n      <td>0</td>\n      <td>54947.51</td>\n      <td>0</td>\n    </tr>\n    <tr>\n      <th>15815490</th>\n      <td>670</td>\n      <td>0</td>\n      <td>40</td>\n      <td>新客户</td>\n      <td>高资产</td>\n      <td>3</td>\n      <td>0</td>\n      <td>0</td>\n      <td>177028.00</td>\n      <td>1</td>\n    </tr>\n    <tr>\n      <th>15815530</th>\n      <td>612</td>\n      <td>1</td>\n      <td>42</td>\n      <td>老客户</td>\n      <td>中下资产</td>\n      <td>1</td>\n      <td>0</td>\n      <td>0</td>\n      <td>149682.78</td>\n      <td>0</td>\n    </tr>\n    <tr>\n      <th>15815628</th>\n      <td>711</td>\n      <td>1</td>\n      <td>37</td>\n      <td>老客户</td>\n      <td>中上资产</td>\n      <td>1</td>\n      <td>0</td>\n      <td>0</td>\n      <td>80215.20</td>\n      <td>0</td>\n    </tr>\n  </tbody>\n</table>\n<p>4453 rows × 10 columns</p>\n</div>"
     },
     "execution_count": 10,
     "metadata": {},
     "output_type": "execute_result"
    }
   ],
   "source": [
    "not_active = active_group.get_group(0)\n",
    "not_active"
   ],
   "metadata": {
    "collapsed": false,
    "pycharm": {
     "name": "#%%\n"
    }
   }
  },
  {
   "cell_type": "code",
   "execution_count": 11,
   "outputs": [
    {
     "data": {
      "text/plain": "            CreditScore  Gender  Age Status AssetStage  NumOfProducts  \\\nCustomerId                                                              \n15553251            713       1   52    新客户        高资产              1   \n15553256            619       1   41    老客户        低资产              3   \n15553283            603       1   42    老客户       中上资产              1   \n15553308            589       1   61    新客户        低资产              1   \n15553387            687       1   39    新客户        低资产              3   \n...                 ...     ...  ...    ...        ...            ...   \n15815628            711       1   37    老客户       中上资产              1   \n15815645            481       0   37    老客户        高资产              2   \n15815656            541       1   39    老客户       中上资产              1   \n15815660            758       1   34    新客户        高资产              1   \n15815690            614       1   40    新客户       中上资产              1   \n\n            HasCrCard  IsActiveMember  EstimatedSalary  Exited  \\\nCustomerId                                                       \n15553251            1               1         46369.57       1   \n15553256            1               1         79866.73       1   \n15553283            0               0        144675.30       1   \n15553308            1               0         61108.56       1   \n15553387            0               0        188150.60       1   \n...               ...             ...              ...     ...   \n15815628            0               0         80215.20       0   \n15815645            1               1        175082.20       0   \n15815656            1               1        199808.10       1   \n15815660            1               1         60728.89       0   \n15815690            1               1         77789.01       0   \n\n            IsActiveStatus  IsActiveAssetStage  CrCardAssetStage  \nCustomerId                                                        \n15553251               3.0                 9.0               9.0  \n15553256               5.0                 6.0               6.0  \n15553283               2.0                 2.0               5.0  \n15553308               0.0                 0.0               0.0  \n15553387               0.0                 0.0               0.0  \n...                    ...                 ...               ...  \n15815628               2.0                 2.0               5.0  \n15815645               5.0                 9.0               9.0  \n15815656               5.0                 8.0               9.0  \n15815660               3.0                 9.0               9.0  \n15815690               3.0                 8.0               9.0  \n\n[9198 rows x 13 columns]",
      "text/html": "<div>\n<style scoped>\n    .dataframe tbody tr th:only-of-type {\n        vertical-align: middle;\n    }\n\n    .dataframe tbody tr th {\n        vertical-align: top;\n    }\n\n    .dataframe thead th {\n        text-align: right;\n    }\n</style>\n<table border=\"1\" class=\"dataframe\">\n  <thead>\n    <tr style=\"text-align: right;\">\n      <th></th>\n      <th>CreditScore</th>\n      <th>Gender</th>\n      <th>Age</th>\n      <th>Status</th>\n      <th>AssetStage</th>\n      <th>NumOfProducts</th>\n      <th>HasCrCard</th>\n      <th>IsActiveMember</th>\n      <th>EstimatedSalary</th>\n      <th>Exited</th>\n      <th>IsActiveStatus</th>\n      <th>IsActiveAssetStage</th>\n      <th>CrCardAssetStage</th>\n    </tr>\n    <tr>\n      <th>CustomerId</th>\n      <th></th>\n      <th></th>\n      <th></th>\n      <th></th>\n      <th></th>\n      <th></th>\n      <th></th>\n      <th></th>\n      <th></th>\n      <th></th>\n      <th></th>\n      <th></th>\n      <th></th>\n    </tr>\n  </thead>\n  <tbody>\n    <tr>\n      <th>15553251</th>\n      <td>713</td>\n      <td>1</td>\n      <td>52</td>\n      <td>新客户</td>\n      <td>高资产</td>\n      <td>1</td>\n      <td>1</td>\n      <td>1</td>\n      <td>46369.57</td>\n      <td>1</td>\n      <td>3.0</td>\n      <td>9.0</td>\n      <td>9.0</td>\n    </tr>\n    <tr>\n      <th>15553256</th>\n      <td>619</td>\n      <td>1</td>\n      <td>41</td>\n      <td>老客户</td>\n      <td>低资产</td>\n      <td>3</td>\n      <td>1</td>\n      <td>1</td>\n      <td>79866.73</td>\n      <td>1</td>\n      <td>5.0</td>\n      <td>6.0</td>\n      <td>6.0</td>\n    </tr>\n    <tr>\n      <th>15553283</th>\n      <td>603</td>\n      <td>1</td>\n      <td>42</td>\n      <td>老客户</td>\n      <td>中上资产</td>\n      <td>1</td>\n      <td>0</td>\n      <td>0</td>\n      <td>144675.30</td>\n      <td>1</td>\n      <td>2.0</td>\n      <td>2.0</td>\n      <td>5.0</td>\n    </tr>\n    <tr>\n      <th>15553308</th>\n      <td>589</td>\n      <td>1</td>\n      <td>61</td>\n      <td>新客户</td>\n      <td>低资产</td>\n      <td>1</td>\n      <td>1</td>\n      <td>0</td>\n      <td>61108.56</td>\n      <td>1</td>\n      <td>0.0</td>\n      <td>0.0</td>\n      <td>0.0</td>\n    </tr>\n    <tr>\n      <th>15553387</th>\n      <td>687</td>\n      <td>1</td>\n      <td>39</td>\n      <td>新客户</td>\n      <td>低资产</td>\n      <td>3</td>\n      <td>0</td>\n      <td>0</td>\n      <td>188150.60</td>\n      <td>1</td>\n      <td>0.0</td>\n      <td>0.0</td>\n      <td>0.0</td>\n    </tr>\n    <tr>\n      <th>...</th>\n      <td>...</td>\n      <td>...</td>\n      <td>...</td>\n      <td>...</td>\n      <td>...</td>\n      <td>...</td>\n      <td>...</td>\n      <td>...</td>\n      <td>...</td>\n      <td>...</td>\n      <td>...</td>\n      <td>...</td>\n      <td>...</td>\n    </tr>\n    <tr>\n      <th>15815628</th>\n      <td>711</td>\n      <td>1</td>\n      <td>37</td>\n      <td>老客户</td>\n      <td>中上资产</td>\n      <td>1</td>\n      <td>0</td>\n      <td>0</td>\n      <td>80215.20</td>\n      <td>0</td>\n      <td>2.0</td>\n      <td>2.0</td>\n      <td>5.0</td>\n    </tr>\n    <tr>\n      <th>15815645</th>\n      <td>481</td>\n      <td>0</td>\n      <td>37</td>\n      <td>老客户</td>\n      <td>高资产</td>\n      <td>2</td>\n      <td>1</td>\n      <td>1</td>\n      <td>175082.20</td>\n      <td>0</td>\n      <td>5.0</td>\n      <td>9.0</td>\n      <td>9.0</td>\n    </tr>\n    <tr>\n      <th>15815656</th>\n      <td>541</td>\n      <td>1</td>\n      <td>39</td>\n      <td>老客户</td>\n      <td>中上资产</td>\n      <td>1</td>\n      <td>1</td>\n      <td>1</td>\n      <td>199808.10</td>\n      <td>1</td>\n      <td>5.0</td>\n      <td>8.0</td>\n      <td>9.0</td>\n    </tr>\n    <tr>\n      <th>15815660</th>\n      <td>758</td>\n      <td>1</td>\n      <td>34</td>\n      <td>新客户</td>\n      <td>高资产</td>\n      <td>1</td>\n      <td>1</td>\n      <td>1</td>\n      <td>60728.89</td>\n      <td>0</td>\n      <td>3.0</td>\n      <td>9.0</td>\n      <td>9.0</td>\n    </tr>\n    <tr>\n      <th>15815690</th>\n      <td>614</td>\n      <td>1</td>\n      <td>40</td>\n      <td>新客户</td>\n      <td>中上资产</td>\n      <td>1</td>\n      <td>1</td>\n      <td>1</td>\n      <td>77789.01</td>\n      <td>0</td>\n      <td>3.0</td>\n      <td>8.0</td>\n      <td>9.0</td>\n    </tr>\n  </tbody>\n</table>\n<p>9198 rows × 13 columns</p>\n</div>"
     },
     "execution_count": 11,
     "metadata": {},
     "output_type": "execute_result"
    }
   ],
   "source": [
    "copy['IsActiveStatus'].loc[not_active.index] = not_active['Status'].map(MAP['not_active']['Status'])\n",
    "copy['IsActiveAssetStage'].loc[not_active.index] = not_active['AssetStage'].map(MAP['not_active']['Asset'])\n",
    "copy['CrCardAssetStage'].loc[not_active.index] = not_active['AssetStage'].map(MAP['not_active']['Card'])\n",
    "\n",
    "copy"
   ],
   "metadata": {
    "collapsed": false,
    "pycharm": {
     "name": "#%%\n"
    }
   }
  },
  {
   "cell_type": "code",
   "execution_count": 12,
   "outputs": [
    {
     "data": {
      "text/plain": "CreditScore           0\nGender                0\nAge                   0\nStatus                0\nAssetStage            0\nNumOfProducts         0\nHasCrCard             0\nIsActiveMember        0\nEstimatedSalary       0\nExited                0\nIsActiveStatus        0\nIsActiveAssetStage    0\nCrCardAssetStage      0\ndtype: int64"
     },
     "execution_count": 12,
     "metadata": {},
     "output_type": "execute_result"
    }
   ],
   "source": [
    "copy.isna().sum()"
   ],
   "metadata": {
    "collapsed": false,
    "pycharm": {
     "name": "#%%\n"
    }
   }
  },
  {
   "cell_type": "code",
   "execution_count": 13,
   "outputs": [
    {
     "data": {
      "text/plain": "<Figure size 576x360 with 1 Axes>",
      "image/png": "[encoded data removed]"
     },
     "metadata": {},
     "output_type": "display_data"
    }
   ],
   "source": [
    "plt.figure(figsize=(8, 5))\n",
    "sns.countplot(copy['IsActiveStatus'])\n",
    "savefig()"
   ],
   "metadata": {
    "collapsed": false,
    "pycharm": {
     "name": "#%%\n"
    }
   }
  },
  {
   "cell_type": "code",
   "execution_count": 14,
   "outputs": [
    {
     "data": {
      "text/plain": "<Figure size 576x360 with 1 Axes>",
      "image/png": "[encoded data removed]"
     },
     "metadata": {},
     "output_type": "display_data"
    }
   ],
   "source": [
    "plt.figure(figsize=(8, 5))\n",
    "sns.countplot(copy['IsActiveAssetStage'])\n",
    "savefig()"
   ],
   "metadata": {
    "collapsed": false,
    "pycharm": {
     "name": "#%%\n"
    }
   }
  },
  {
   "cell_type": "code",
   "execution_count": 15,
   "outputs": [
    {
     "data": {
      "text/plain": "<Figure size 576x360 with 1 Axes>",
      "image/png": "[encoded data removed]"
     },
     "metadata": {},
     "output_type": "display_data"
    }
   ],
   "source": [
    "plt.figure(figsize=(8, 5))\n",
    "sns.countplot(copy['CrCardAssetStage'])\n",
    "savefig()"
   ],
   "metadata": {
    "collapsed": false,
    "pycharm": {
     "name": "#%%\n"
    }
   }
  },
  {
   "cell_type": "code",
   "execution_count": 16,
   "outputs": [],
   "source": [
    "copy.to_excel(RESULT_PATH + '/result4.xlsx')"
   ],
   "metadata": {
    "collapsed": false,
    "pycharm": {
     "name": "#%%\n"
    }
   }
  },
  {
   "cell_type": "code",
   "execution_count": 16,
   "outputs": [],
   "source": [],
   "metadata": {
    "collapsed": false,
    "pycharm": {
     "name": "#%%\n"
    }
   }
  }
 ],
 "metadata": {
  "kernelspec": {
   "display_name": "Python 3",
   "language": "python",
   "name": "python3"
  },
  "language_info": {
   "codemirror_mode": {
    "name": "ipython",
    "version": 2
   },
   "file_extension": ".py",
   "mimetype": "text/x-python",
   "name": "python",
   "nbconvert_exporter": "python",
   "pygments_lexer": "ipython2",
   "version": "2.7.6"
  }
 },
 "nbformat": 4,
 "nbformat_minor": 0
}