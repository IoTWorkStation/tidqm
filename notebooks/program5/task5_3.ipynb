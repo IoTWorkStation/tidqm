{
 "cells": [
  {
   "cell_type": "code",
   "execution_count": 1,
   "metadata": {
    "pycharm": {
     "name": "#%%\n"
    }
   },
   "outputs": [],
   "source": [
    "import numpy as np\n",
    "import pandas as pd\n",
    "import matplotlib.pyplot as plt\n",
    "import seaborn as sns\n",
    "import klib as kl\n",
    "import os\n",
    "import warnings\n",
    "\n",
    "os.environ['KERAS_BACKEND']='tensorflow'\n",
    "os.environ[\"CUDA_VISIBLE_DEVICES\"]=\"0\"\n",
    "os.environ[\"KMP_DUPLICATE_LIB_OK\"]=\"TRUE\"\n",
    "warnings.filterwarnings('ignore')\n",
    "plt.rcParams['font.sans-serif'] = 'Kaiti'\n",
    "plt.rcParams['axes.unicode_minus'] = False\n",
    "PIC_PATH = \"../../models/image/image5\"\n",
    "DATA_PATH = '../../data'\n",
    "RESULT_PATH = '../../data/summary'"
   ]
  },
  {
   "cell_type": "code",
   "execution_count": 2,
   "metadata": {
    "pycharm": {
     "name": "#%%\n"
    }
   },
   "outputs": [
    {
     "data": {
      "text/plain": "     CustomerId  CreditScore  Gender  Age  Tenure    Balance  NumOfProducts  \\\n0      15647311          608       1   41       1   83807.86              1   \n1      15737452          653       0   58       1  132602.88              1   \n2      15577657          732       0   41       8       0.00              2   \n3      15589475          591       1   39       3       0.00              3   \n4      15687946          556       1   61       2  117419.35              1   \n..          ...          ...     ...  ...     ...        ...            ...   \n995    15732202          615       0   34       1   83503.11              2   \n996    15735078          724       1   53       1  139687.66              2   \n997    15707861          520       1   46      10   85216.61              1   \n998    15594612          702       0   44       9       0.00              1   \n999    15806360          609       0   41       6       0.00              1   \n\n     HasCrCard  IsActiveMember  EstimatedSalary  \n0            0               1        112542.58  \n1            1               0          5097.67  \n2            1               1        170886.17  \n3            1               0        140469.38  \n4            1               1         94153.83  \n..         ...             ...              ...  \n995          1               1         73124.53  \n996          1               1         12913.92  \n997          1               0        117369.52  \n998          0               0         59207.41  \n999          0               1        112585.19  \n\n[1000 rows x 10 columns]",
      "text/html": "<div>\n<style scoped>\n    .dataframe tbody tr th:only-of-type {\n        vertical-align: middle;\n    }\n\n    .dataframe tbody tr th {\n        vertical-align: top;\n    }\n\n    .dataframe thead th {\n        text-align: right;\n    }\n</style>\n<table border=\"1\" class=\"dataframe\">\n  <thead>\n    <tr style=\"text-align: right;\">\n      <th></th>\n      <th>CustomerId</th>\n      <th>CreditScore</th>\n      <th>Gender</th>\n      <th>Age</th>\n      <th>Tenure</th>\n      <th>Balance</th>\n      <th>NumOfProducts</th>\n      <th>HasCrCard</th>\n      <th>IsActiveMember</th>\n      <th>EstimatedSalary</th>\n    </tr>\n  </thead>\n  <tbody>\n    <tr>\n      <th>0</th>\n      <td>15647311</td>\n      <td>608</td>\n      <td>1</td>\n      <td>41</td>\n      <td>1</td>\n      <td>83807.86</td>\n      <td>1</td>\n      <td>0</td>\n      <td>1</td>\n      <td>112542.58</td>\n    </tr>\n    <tr>\n      <th>1</th>\n      <td>15737452</td>\n      <td>653</td>\n      <td>0</td>\n      <td>58</td>\n      <td>1</td>\n      <td>132602.88</td>\n      <td>1</td>\n      <td>1</td>\n      <td>0</td>\n      <td>5097.67</td>\n    </tr>\n    <tr>\n      <th>2</th>\n      <td>15577657</td>\n      <td>732</td>\n      <td>0</td>\n      <td>41</td>\n      <td>8</td>\n      <td>0.00</td>\n      <td>2</td>\n      <td>1</td>\n      <td>1</td>\n      <td>170886.17</td>\n    </tr>\n    <tr>\n      <th>3</th>\n      <td>15589475</td>\n      <td>591</td>\n      <td>1</td>\n      <td>39</td>\n      <td>3</td>\n      <td>0.00</td>\n      <td>3</td>\n      <td>1</td>\n      <td>0</td>\n      <td>140469.38</td>\n    </tr>\n    <tr>\n      <th>4</th>\n      <td>15687946</td>\n      <td>556</td>\n      <td>1</td>\n      <td>61</td>\n      <td>2</td>\n      <td>117419.35</td>\n      <td>1</td>\n      <td>1</td>\n      <td>1</td>\n      <td>94153.83</td>\n    </tr>\n    <tr>\n      <th>...</th>\n      <td>...</td>\n      <td>...</td>\n      <td>...</td>\n      <td>...</td>\n      <td>...</td>\n      <td>...</td>\n      <td>...</td>\n      <td>...</td>\n      <td>...</td>\n      <td>...</td>\n    </tr>\n    <tr>\n      <th>995</th>\n      <td>15732202</td>\n      <td>615</td>\n      <td>0</td>\n      <td>34</td>\n      <td>1</td>\n      <td>83503.11</td>\n      <td>2</td>\n      <td>1</td>\n      <td>1</td>\n      <td>73124.53</td>\n    </tr>\n    <tr>\n      <th>996</th>\n      <td>15735078</td>\n      <td>724</td>\n      <td>1</td>\n      <td>53</td>\n      <td>1</td>\n      <td>139687.66</td>\n      <td>2</td>\n      <td>1</td>\n      <td>1</td>\n      <td>12913.92</td>\n    </tr>\n    <tr>\n      <th>997</th>\n      <td>15707861</td>\n      <td>520</td>\n      <td>1</td>\n      <td>46</td>\n      <td>10</td>\n      <td>85216.61</td>\n      <td>1</td>\n      <td>1</td>\n      <td>0</td>\n      <td>117369.52</td>\n    </tr>\n    <tr>\n      <th>998</th>\n      <td>15594612</td>\n      <td>702</td>\n      <td>0</td>\n      <td>44</td>\n      <td>9</td>\n      <td>0.00</td>\n      <td>1</td>\n      <td>0</td>\n      <td>0</td>\n      <td>59207.41</td>\n    </tr>\n    <tr>\n      <th>999</th>\n      <td>15806360</td>\n      <td>609</td>\n      <td>0</td>\n      <td>41</td>\n      <td>6</td>\n      <td>0.00</td>\n      <td>1</td>\n      <td>0</td>\n      <td>1</td>\n      <td>112585.19</td>\n    </tr>\n  </tbody>\n</table>\n<p>1000 rows × 10 columns</p>\n</div>"
     },
     "execution_count": 2,
     "metadata": {},
     "output_type": "execute_result"
    }
   ],
   "source": [
    "test_data = pd.read_csv(DATA_PATH + '/long-customer-test.csv')\n",
    "test_data"
   ]
  },
  {
   "cell_type": "code",
   "execution_count": 3,
   "metadata": {
    "pycharm": {
     "name": "#%%\n"
    }
   },
   "outputs": [
    {
     "name": "stdout",
     "output_type": "stream",
     "text": [
      "<class 'pandas.core.frame.DataFrame'>\n",
      "RangeIndex: 1000 entries, 0 to 999\n",
      "Data columns (total 10 columns):\n",
      " #   Column           Non-Null Count  Dtype  \n",
      "---  ------           --------------  -----  \n",
      " 0   CustomerId       1000 non-null   int64  \n",
      " 1   CreditScore      1000 non-null   int64  \n",
      " 2   Gender           1000 non-null   int64  \n",
      " 3   Age              1000 non-null   int64  \n",
      " 4   Tenure           1000 non-null   int64  \n",
      " 5   Balance          1000 non-null   float64\n",
      " 6   NumOfProducts    1000 non-null   int64  \n",
      " 7   HasCrCard        1000 non-null   int64  \n",
      " 8   IsActiveMember   1000 non-null   int64  \n",
      " 9   EstimatedSalary  1000 non-null   float64\n",
      "dtypes: float64(2), int64(8)\n",
      "memory usage: 78.2 KB\n"
     ]
    }
   ],
   "source": [
    "test_data.info()"
   ]
  },
  {
   "cell_type": "code",
   "execution_count": 4,
   "metadata": {
    "pycharm": {
     "name": "#%%\n"
    }
   },
   "outputs": [
    {
     "data": {
      "text/plain": "     CustomerId  CreditScore  Gender  Age  Status  AssetStage  NumOfProducts  \\\n0      15647311          608       1   41       1    83807.86              1   \n1      15737452          653       0   58       1   132602.88              1   \n2      15577657          732       0   41       8        0.00              2   \n3      15589475          591       1   39       3        0.00              3   \n4      15687946          556       1   61       2   117419.35              1   \n..          ...          ...     ...  ...     ...         ...            ...   \n995    15732202          615       0   34       1    83503.11              2   \n996    15735078          724       1   53       1   139687.66              2   \n997    15707861          520       1   46      10    85216.61              1   \n998    15594612          702       0   44       9        0.00              1   \n999    15806360          609       0   41       6        0.00              1   \n\n     HasCrCard  IsActiveMember  EstimatedSalary  \n0            0               1        112542.58  \n1            1               0          5097.67  \n2            1               1        170886.17  \n3            1               0        140469.38  \n4            1               1         94153.83  \n..         ...             ...              ...  \n995          1               1         73124.53  \n996          1               1         12913.92  \n997          1               0        117369.52  \n998          0               0         59207.41  \n999          0               1        112585.19  \n\n[1000 rows x 10 columns]",
      "text/html": "<div>\n<style scoped>\n    .dataframe tbody tr th:only-of-type {\n        vertical-align: middle;\n    }\n\n    .dataframe tbody tr th {\n        vertical-align: top;\n    }\n\n    .dataframe thead th {\n        text-align: right;\n    }\n</style>\n<table border=\"1\" class=\"dataframe\">\n  <thead>\n    <tr style=\"text-align: right;\">\n      <th></th>\n      <th>CustomerId</th>\n      <th>CreditScore</th>\n      <th>Gender</th>\n      <th>Age</th>\n      <th>Status</th>\n      <th>AssetStage</th>\n      <th>NumOfProducts</th>\n      <th>HasCrCard</th>\n      <th>IsActiveMember</th>\n      <th>EstimatedSalary</th>\n    </tr>\n  </thead>\n  <tbody>\n    <tr>\n      <th>0</th>\n      <td>15647311</td>\n      <td>608</td>\n      <td>1</td>\n      <td>41</td>\n      <td>1</td>\n      <td>83807.86</td>\n      <td>1</td>\n      <td>0</td>\n      <td>1</td>\n      <td>112542.58</td>\n    </tr>\n    <tr>\n      <th>1</th>\n      <td>15737452</td>\n      <td>653</td>\n      <td>0</td>\n      <td>58</td>\n      <td>1</td>\n      <td>132602.88</td>\n      <td>1</td>\n      <td>1</td>\n      <td>0</td>\n      <td>5097.67</td>\n    </tr>\n    <tr>\n      <th>2</th>\n      <td>15577657</td>\n      <td>732</td>\n      <td>0</td>\n      <td>41</td>\n      <td>8</td>\n      <td>0.00</td>\n      <td>2</td>\n      <td>1</td>\n      <td>1</td>\n      <td>170886.17</td>\n    </tr>\n    <tr>\n      <th>3</th>\n      <td>15589475</td>\n      <td>591</td>\n      <td>1</td>\n      <td>39</td>\n      <td>3</td>\n      <td>0.00</td>\n      <td>3</td>\n      <td>1</td>\n      <td>0</td>\n      <td>140469.38</td>\n    </tr>\n    <tr>\n      <th>4</th>\n      <td>15687946</td>\n      <td>556</td>\n      <td>1</td>\n      <td>61</td>\n      <td>2</td>\n      <td>117419.35</td>\n      <td>1</td>\n      <td>1</td>\n      <td>1</td>\n      <td>94153.83</td>\n    </tr>\n    <tr>\n      <th>...</th>\n      <td>...</td>\n      <td>...</td>\n      <td>...</td>\n      <td>...</td>\n      <td>...</td>\n      <td>...</td>\n      <td>...</td>\n      <td>...</td>\n      <td>...</td>\n      <td>...</td>\n    </tr>\n    <tr>\n      <th>995</th>\n      <td>15732202</td>\n      <td>615</td>\n      <td>0</td>\n      <td>34</td>\n      <td>1</td>\n      <td>83503.11</td>\n      <td>2</td>\n      <td>1</td>\n      <td>1</td>\n      <td>73124.53</td>\n    </tr>\n    <tr>\n      <th>996</th>\n      <td>15735078</td>\n      <td>724</td>\n      <td>1</td>\n      <td>53</td>\n      <td>1</td>\n      <td>139687.66</td>\n      <td>2</td>\n      <td>1</td>\n      <td>1</td>\n      <td>12913.92</td>\n    </tr>\n    <tr>\n      <th>997</th>\n      <td>15707861</td>\n      <td>520</td>\n      <td>1</td>\n      <td>46</td>\n      <td>10</td>\n      <td>85216.61</td>\n      <td>1</td>\n      <td>1</td>\n      <td>0</td>\n      <td>117369.52</td>\n    </tr>\n    <tr>\n      <th>998</th>\n      <td>15594612</td>\n      <td>702</td>\n      <td>0</td>\n      <td>44</td>\n      <td>9</td>\n      <td>0.00</td>\n      <td>1</td>\n      <td>0</td>\n      <td>0</td>\n      <td>59207.41</td>\n    </tr>\n    <tr>\n      <th>999</th>\n      <td>15806360</td>\n      <td>609</td>\n      <td>0</td>\n      <td>41</td>\n      <td>6</td>\n      <td>0.00</td>\n      <td>1</td>\n      <td>0</td>\n      <td>1</td>\n      <td>112585.19</td>\n    </tr>\n  </tbody>\n</table>\n<p>1000 rows × 10 columns</p>\n</div>"
     },
     "execution_count": 4,
     "metadata": {},
     "output_type": "execute_result"
    }
   ],
   "source": [
    "test_data.rename(columns={\n",
    "        'Tenure': 'Status',\n",
    "        'Balance': 'AssetStage'\n",
    "    }, inplace=True)\n",
    "test_data"
   ]
  },
  {
   "cell_type": "code",
   "execution_count": 5,
   "metadata": {
    "pycharm": {
     "name": "#%%\n"
    }
   },
   "outputs": [
    {
     "data": {
      "text/plain": "     CustomerId  CreditScore  Gender  Age Status AssetStage  NumOfProducts  \\\n0      15647311          608       1   41    新客户       中下资产              1   \n1      15737452          653       0   58    新客户        高资产              1   \n2      15577657          732       0   41    老客户        低资产              2   \n3      15589475          591       1   39    新客户        低资产              3   \n4      15687946          556       1   61    新客户       中上资产              1   \n..          ...          ...     ...  ...    ...        ...            ...   \n995    15732202          615       0   34    新客户       中下资产              2   \n996    15735078          724       1   53    新客户        高资产              2   \n997    15707861          520       1   46    老客户       中下资产              1   \n998    15594612          702       0   44    老客户        低资产              1   \n999    15806360          609       0   41   稳定客户        低资产              1   \n\n     HasCrCard  IsActiveMember  EstimatedSalary  \n0            0               1        112542.58  \n1            1               0          5097.67  \n2            1               1        170886.17  \n3            1               0        140469.38  \n4            1               1         94153.83  \n..         ...             ...              ...  \n995          1               1         73124.53  \n996          1               1         12913.92  \n997          1               0        117369.52  \n998          0               0         59207.41  \n999          0               1        112585.19  \n\n[1000 rows x 10 columns]",
      "text/html": "<div>\n<style scoped>\n    .dataframe tbody tr th:only-of-type {\n        vertical-align: middle;\n    }\n\n    .dataframe tbody tr th {\n        vertical-align: top;\n    }\n\n    .dataframe thead th {\n        text-align: right;\n    }\n</style>\n<table border=\"1\" class=\"dataframe\">\n  <thead>\n    <tr style=\"text-align: right;\">\n      <th></th>\n      <th>CustomerId</th>\n      <th>CreditScore</th>\n      <th>Gender</th>\n      <th>Age</th>\n      <th>Status</th>\n      <th>AssetStage</th>\n      <th>NumOfProducts</th>\n      <th>HasCrCard</th>\n      <th>IsActiveMember</th>\n      <th>EstimatedSalary</th>\n    </tr>\n  </thead>\n  <tbody>\n    <tr>\n      <th>0</th>\n      <td>15647311</td>\n      <td>608</td>\n      <td>1</td>\n      <td>41</td>\n      <td>新客户</td>\n      <td>中下资产</td>\n      <td>1</td>\n      <td>0</td>\n      <td>1</td>\n      <td>112542.58</td>\n    </tr>\n    <tr>\n      <th>1</th>\n      <td>15737452</td>\n      <td>653</td>\n      <td>0</td>\n      <td>58</td>\n      <td>新客户</td>\n      <td>高资产</td>\n      <td>1</td>\n      <td>1</td>\n      <td>0</td>\n      <td>5097.67</td>\n    </tr>\n    <tr>\n      <th>2</th>\n      <td>15577657</td>\n      <td>732</td>\n      <td>0</td>\n      <td>41</td>\n      <td>老客户</td>\n      <td>低资产</td>\n      <td>2</td>\n      <td>1</td>\n      <td>1</td>\n      <td>170886.17</td>\n    </tr>\n    <tr>\n      <th>3</th>\n      <td>15589475</td>\n      <td>591</td>\n      <td>1</td>\n      <td>39</td>\n      <td>新客户</td>\n      <td>低资产</td>\n      <td>3</td>\n      <td>1</td>\n      <td>0</td>\n      <td>140469.38</td>\n    </tr>\n    <tr>\n      <th>4</th>\n      <td>15687946</td>\n      <td>556</td>\n      <td>1</td>\n      <td>61</td>\n      <td>新客户</td>\n      <td>中上资产</td>\n      <td>1</td>\n      <td>1</td>\n      <td>1</td>\n      <td>94153.83</td>\n    </tr>\n    <tr>\n      <th>...</th>\n      <td>...</td>\n      <td>...</td>\n      <td>...</td>\n      <td>...</td>\n      <td>...</td>\n      <td>...</td>\n      <td>...</td>\n      <td>...</td>\n      <td>...</td>\n      <td>...</td>\n    </tr>\n    <tr>\n      <th>995</th>\n      <td>15732202</td>\n      <td>615</td>\n      <td>0</td>\n      <td>34</td>\n      <td>新客户</td>\n      <td>中下资产</td>\n      <td>2</td>\n      <td>1</td>\n      <td>1</td>\n      <td>73124.53</td>\n    </tr>\n    <tr>\n      <th>996</th>\n      <td>15735078</td>\n      <td>724</td>\n      <td>1</td>\n      <td>53</td>\n      <td>新客户</td>\n      <td>高资产</td>\n      <td>2</td>\n      <td>1</td>\n      <td>1</td>\n      <td>12913.92</td>\n    </tr>\n    <tr>\n      <th>997</th>\n      <td>15707861</td>\n      <td>520</td>\n      <td>1</td>\n      <td>46</td>\n      <td>老客户</td>\n      <td>中下资产</td>\n      <td>1</td>\n      <td>1</td>\n      <td>0</td>\n      <td>117369.52</td>\n    </tr>\n    <tr>\n      <th>998</th>\n      <td>15594612</td>\n      <td>702</td>\n      <td>0</td>\n      <td>44</td>\n      <td>老客户</td>\n      <td>低资产</td>\n      <td>1</td>\n      <td>0</td>\n      <td>0</td>\n      <td>59207.41</td>\n    </tr>\n    <tr>\n      <th>999</th>\n      <td>15806360</td>\n      <td>609</td>\n      <td>0</td>\n      <td>41</td>\n      <td>稳定客户</td>\n      <td>低资产</td>\n      <td>1</td>\n      <td>0</td>\n      <td>1</td>\n      <td>112585.19</td>\n    </tr>\n  </tbody>\n</table>\n<p>1000 rows × 10 columns</p>\n</div>"
     },
     "execution_count": 5,
     "metadata": {},
     "output_type": "execute_result"
    }
   ],
   "source": [
    "bin_tenure = [0, 3, 6, 11]\n",
    "labels = ['新客户', '稳定客户', '老客户']\n",
    "box1 = pd.cut(test_data['Status'], bins=bin_tenure, labels=labels, include_lowest=True, right=True)\n",
    "test_data['Status'] = box1\n",
    "\n",
    "bin_balance = [0, 50000, 90000, 120000, 260000]\n",
    "labels = ['低资产', '中下资产', '中上资产', '高资产']\n",
    "box2 = pd.cut(test_data['AssetStage'], bins=bin_balance, labels=labels, include_lowest=True, right=True)\n",
    "test_data['AssetStage'] = box2\n",
    "\n",
    "test_data"
   ]
  },
  {
   "cell_type": "code",
   "execution_count": 6,
   "metadata": {
    "pycharm": {
     "name": "#%%\n"
    }
   },
   "outputs": [],
   "source": [
    "MAP = {\n",
    "    'is_active': {\n",
    "        'Status': {\n",
    "            '新客户': 3,\n",
    "            '稳定客户': 4,\n",
    "            '老客户': 5,\n",
    "        },\n",
    "        'Asset': {\n",
    "            '低资产': 6,\n",
    "            '中下资产': 7,\n",
    "            '中上资产': 8,\n",
    "            '高资产': 9\n",
    "        },\n",
    "        'Card': {\n",
    "            '低资产': 6,\n",
    "            '中下资产': 7,\n",
    "            '中上资产': 9,\n",
    "            '高资产': 9\n",
    "        },\n",
    "    },\n",
    "    'not_active': {\n",
    "        'Status': {\n",
    "            '新客户': 0,\n",
    "            '稳定客户': 1,\n",
    "            '老客户': 2,\n",
    "        },\n",
    "        'Asset': {\n",
    "            '低资产': 0,\n",
    "            '中下资产': 1,\n",
    "            '中上资产': 2,\n",
    "            '高资产': 3\n",
    "        },\n",
    "        'Card': {\n",
    "            '低资产': 0,\n",
    "            '中下资产': 2,\n",
    "            '中上资产': 5,\n",
    "            '高资产': 5\n",
    "        },\n",
    "    }\n",
    "}"
   ]
  },
  {
   "cell_type": "code",
   "execution_count": 7,
   "metadata": {
    "pycharm": {
     "name": "#%%\n"
    }
   },
   "outputs": [],
   "source": [
    "active_group = test_data.groupby('IsActiveMember')\n",
    "test_data['IsActiveStatus'] = np.nan"
   ]
  },
  {
   "cell_type": "code",
   "execution_count": 8,
   "outputs": [
    {
     "data": {
      "text/plain": "     CustomerId  CreditScore  Gender  Age Status AssetStage  NumOfProducts  \\\n0      15647311          608       1   41    新客户       中下资产              1   \n1      15737452          653       0   58    新客户        高资产              1   \n2      15577657          732       0   41    老客户        低资产              2   \n3      15589475          591       1   39    新客户        低资产              3   \n4      15687946          556       1   61    新客户       中上资产              1   \n..          ...          ...     ...  ...    ...        ...            ...   \n995    15732202          615       0   34    新客户       中下资产              2   \n996    15735078          724       1   53    新客户        高资产              2   \n997    15707861          520       1   46    老客户       中下资产              1   \n998    15594612          702       0   44    老客户        低资产              1   \n999    15806360          609       0   41   稳定客户        低资产              1   \n\n     HasCrCard  IsActiveMember  EstimatedSalary  IsActiveStatus  \n0            0               1        112542.58             NaN  \n1            1               0          5097.67             NaN  \n2            1               1        170886.17             NaN  \n3            1               0        140469.38             NaN  \n4            1               1         94153.83             NaN  \n..         ...             ...              ...             ...  \n995          1               1         73124.53             NaN  \n996          1               1         12913.92             NaN  \n997          1               0        117369.52             NaN  \n998          0               0         59207.41             NaN  \n999          0               1        112585.19             NaN  \n\n[1000 rows x 11 columns]",
      "text/html": "<div>\n<style scoped>\n    .dataframe tbody tr th:only-of-type {\n        vertical-align: middle;\n    }\n\n    .dataframe tbody tr th {\n        vertical-align: top;\n    }\n\n    .dataframe thead th {\n        text-align: right;\n    }\n</style>\n<table border=\"1\" class=\"dataframe\">\n  <thead>\n    <tr style=\"text-align: right;\">\n      <th></th>\n      <th>CustomerId</th>\n      <th>CreditScore</th>\n      <th>Gender</th>\n      <th>Age</th>\n      <th>Status</th>\n      <th>AssetStage</th>\n      <th>NumOfProducts</th>\n      <th>HasCrCard</th>\n      <th>IsActiveMember</th>\n      <th>EstimatedSalary</th>\n      <th>IsActiveStatus</th>\n    </tr>\n  </thead>\n  <tbody>\n    <tr>\n      <th>0</th>\n      <td>15647311</td>\n      <td>608</td>\n      <td>1</td>\n      <td>41</td>\n      <td>新客户</td>\n      <td>中下资产</td>\n      <td>1</td>\n      <td>0</td>\n      <td>1</td>\n      <td>112542.58</td>\n      <td>NaN</td>\n    </tr>\n    <tr>\n      <th>1</th>\n      <td>15737452</td>\n      <td>653</td>\n      <td>0</td>\n      <td>58</td>\n      <td>新客户</td>\n      <td>高资产</td>\n      <td>1</td>\n      <td>1</td>\n      <td>0</td>\n      <td>5097.67</td>\n      <td>NaN</td>\n    </tr>\n    <tr>\n      <th>2</th>\n      <td>15577657</td>\n      <td>732</td>\n      <td>0</td>\n      <td>41</td>\n      <td>老客户</td>\n      <td>低资产</td>\n      <td>2</td>\n      <td>1</td>\n      <td>1</td>\n      <td>170886.17</td>\n      <td>NaN</td>\n    </tr>\n    <tr>\n      <th>3</th>\n      <td>15589475</td>\n      <td>591</td>\n      <td>1</td>\n      <td>39</td>\n      <td>新客户</td>\n      <td>低资产</td>\n      <td>3</td>\n      <td>1</td>\n      <td>0</td>\n      <td>140469.38</td>\n      <td>NaN</td>\n    </tr>\n    <tr>\n      <th>4</th>\n      <td>15687946</td>\n      <td>556</td>\n      <td>1</td>\n      <td>61</td>\n      <td>新客户</td>\n      <td>中上资产</td>\n      <td>1</td>\n      <td>1</td>\n      <td>1</td>\n      <td>94153.83</td>\n      <td>NaN</td>\n    </tr>\n    <tr>\n      <th>...</th>\n      <td>...</td>\n      <td>...</td>\n      <td>...</td>\n      <td>...</td>\n      <td>...</td>\n      <td>...</td>\n      <td>...</td>\n      <td>...</td>\n      <td>...</td>\n      <td>...</td>\n      <td>...</td>\n    </tr>\n    <tr>\n      <th>995</th>\n      <td>15732202</td>\n      <td>615</td>\n      <td>0</td>\n      <td>34</td>\n      <td>新客户</td>\n      <td>中下资产</td>\n      <td>2</td>\n      <td>1</td>\n      <td>1</td>\n      <td>73124.53</td>\n      <td>NaN</td>\n    </tr>\n    <tr>\n      <th>996</th>\n      <td>15735078</td>\n      <td>724</td>\n      <td>1</td>\n      <td>53</td>\n      <td>新客户</td>\n      <td>高资产</td>\n      <td>2</td>\n      <td>1</td>\n      <td>1</td>\n      <td>12913.92</td>\n      <td>NaN</td>\n    </tr>\n    <tr>\n      <th>997</th>\n      <td>15707861</td>\n      <td>520</td>\n      <td>1</td>\n      <td>46</td>\n      <td>老客户</td>\n      <td>中下资产</td>\n      <td>1</td>\n      <td>1</td>\n      <td>0</td>\n      <td>117369.52</td>\n      <td>NaN</td>\n    </tr>\n    <tr>\n      <th>998</th>\n      <td>15594612</td>\n      <td>702</td>\n      <td>0</td>\n      <td>44</td>\n      <td>老客户</td>\n      <td>低资产</td>\n      <td>1</td>\n      <td>0</td>\n      <td>0</td>\n      <td>59207.41</td>\n      <td>NaN</td>\n    </tr>\n    <tr>\n      <th>999</th>\n      <td>15806360</td>\n      <td>609</td>\n      <td>0</td>\n      <td>41</td>\n      <td>稳定客户</td>\n      <td>低资产</td>\n      <td>1</td>\n      <td>0</td>\n      <td>1</td>\n      <td>112585.19</td>\n      <td>NaN</td>\n    </tr>\n  </tbody>\n</table>\n<p>1000 rows × 11 columns</p>\n</div>"
     },
     "execution_count": 8,
     "metadata": {},
     "output_type": "execute_result"
    }
   ],
   "source": [
    "test_data"
   ],
   "metadata": {
    "collapsed": false,
    "pycharm": {
     "name": "#%%\n"
    }
   }
  },
  {
   "cell_type": "code",
   "execution_count": 9,
   "metadata": {
    "pycharm": {
     "name": "#%%\n"
    }
   },
   "outputs": [
    {
     "data": {
      "text/plain": "     CustomerId  CreditScore  Gender  Age Status AssetStage  NumOfProducts  \\\n0      15647311          608       1   41    新客户       中下资产              1   \n2      15577657          732       0   41    老客户        低资产              2   \n4      15687946          556       1   61    新客户       中上资产              1   \n7      15701164          506       1   34   稳定客户       中上资产              1   \n8      15738721          773       0   41    老客户       中上资产              1   \n..          ...          ...     ...  ...    ...        ...            ...   \n990    15726179          757       1   43   稳定客户        高资产              2   \n994    15784042          624       0   55    老客户       中上资产              1   \n995    15732202          615       0   34    新客户       中下资产              2   \n996    15735078          724       1   53    新客户        高资产              2   \n999    15806360          609       0   41   稳定客户        低资产              1   \n\n     HasCrCard  IsActiveMember  EstimatedSalary  IsActiveStatus  \n0            0               1        112542.58             NaN  \n2            1               1        170886.17             NaN  \n4            1               1         94153.83             NaN  \n7            1               1        159235.29             NaN  \n8            0               1         64595.25             NaN  \n..         ...             ...              ...             ...  \n990          1               1          3497.43             NaN  \n994          1               1         95022.02             NaN  \n995          1               1         73124.53             NaN  \n996          1               1         12913.92             NaN  \n999          0               1        112585.19             NaN  \n\n[447 rows x 11 columns]",
      "text/html": "<div>\n<style scoped>\n    .dataframe tbody tr th:only-of-type {\n        vertical-align: middle;\n    }\n\n    .dataframe tbody tr th {\n        vertical-align: top;\n    }\n\n    .dataframe thead th {\n        text-align: right;\n    }\n</style>\n<table border=\"1\" class=\"dataframe\">\n  <thead>\n    <tr style=\"text-align: right;\">\n      <th></th>\n      <th>CustomerId</th>\n      <th>CreditScore</th>\n      <th>Gender</th>\n      <th>Age</th>\n      <th>Status</th>\n      <th>AssetStage</th>\n      <th>NumOfProducts</th>\n      <th>HasCrCard</th>\n      <th>IsActiveMember</th>\n      <th>EstimatedSalary</th>\n      <th>IsActiveStatus</th>\n    </tr>\n  </thead>\n  <tbody>\n    <tr>\n      <th>0</th>\n      <td>15647311</td>\n      <td>608</td>\n      <td>1</td>\n      <td>41</td>\n      <td>新客户</td>\n      <td>中下资产</td>\n      <td>1</td>\n      <td>0</td>\n      <td>1</td>\n      <td>112542.58</td>\n      <td>NaN</td>\n    </tr>\n    <tr>\n      <th>2</th>\n      <td>15577657</td>\n      <td>732</td>\n      <td>0</td>\n      <td>41</td>\n      <td>老客户</td>\n      <td>低资产</td>\n      <td>2</td>\n      <td>1</td>\n      <td>1</td>\n      <td>170886.17</td>\n      <td>NaN</td>\n    </tr>\n    <tr>\n      <th>4</th>\n      <td>15687946</td>\n      <td>556</td>\n      <td>1</td>\n      <td>61</td>\n      <td>新客户</td>\n      <td>中上资产</td>\n      <td>1</td>\n      <td>1</td>\n      <td>1</td>\n      <td>94153.83</td>\n      <td>NaN</td>\n    </tr>\n    <tr>\n      <th>7</th>\n      <td>15701164</td>\n      <td>506</td>\n      <td>1</td>\n      <td>34</td>\n      <td>稳定客户</td>\n      <td>中上资产</td>\n      <td>1</td>\n      <td>1</td>\n      <td>1</td>\n      <td>159235.29</td>\n      <td>NaN</td>\n    </tr>\n    <tr>\n      <th>8</th>\n      <td>15738721</td>\n      <td>773</td>\n      <td>0</td>\n      <td>41</td>\n      <td>老客户</td>\n      <td>中上资产</td>\n      <td>1</td>\n      <td>0</td>\n      <td>1</td>\n      <td>64595.25</td>\n      <td>NaN</td>\n    </tr>\n    <tr>\n      <th>...</th>\n      <td>...</td>\n      <td>...</td>\n      <td>...</td>\n      <td>...</td>\n      <td>...</td>\n      <td>...</td>\n      <td>...</td>\n      <td>...</td>\n      <td>...</td>\n      <td>...</td>\n      <td>...</td>\n    </tr>\n    <tr>\n      <th>990</th>\n      <td>15726179</td>\n      <td>757</td>\n      <td>1</td>\n      <td>43</td>\n      <td>稳定客户</td>\n      <td>高资产</td>\n      <td>2</td>\n      <td>1</td>\n      <td>1</td>\n      <td>3497.43</td>\n      <td>NaN</td>\n    </tr>\n    <tr>\n      <th>994</th>\n      <td>15784042</td>\n      <td>624</td>\n      <td>0</td>\n      <td>55</td>\n      <td>老客户</td>\n      <td>中上资产</td>\n      <td>1</td>\n      <td>1</td>\n      <td>1</td>\n      <td>95022.02</td>\n      <td>NaN</td>\n    </tr>\n    <tr>\n      <th>995</th>\n      <td>15732202</td>\n      <td>615</td>\n      <td>0</td>\n      <td>34</td>\n      <td>新客户</td>\n      <td>中下资产</td>\n      <td>2</td>\n      <td>1</td>\n      <td>1</td>\n      <td>73124.53</td>\n      <td>NaN</td>\n    </tr>\n    <tr>\n      <th>996</th>\n      <td>15735078</td>\n      <td>724</td>\n      <td>1</td>\n      <td>53</td>\n      <td>新客户</td>\n      <td>高资产</td>\n      <td>2</td>\n      <td>1</td>\n      <td>1</td>\n      <td>12913.92</td>\n      <td>NaN</td>\n    </tr>\n    <tr>\n      <th>999</th>\n      <td>15806360</td>\n      <td>609</td>\n      <td>0</td>\n      <td>41</td>\n      <td>稳定客户</td>\n      <td>低资产</td>\n      <td>1</td>\n      <td>0</td>\n      <td>1</td>\n      <td>112585.19</td>\n      <td>NaN</td>\n    </tr>\n  </tbody>\n</table>\n<p>447 rows × 11 columns</p>\n</div>"
     },
     "execution_count": 9,
     "metadata": {},
     "output_type": "execute_result"
    }
   ],
   "source": [
    "active = test_data[test_data['IsActiveMember'] == 1]\n",
    "# test_data['IsActiveStatus'].loc[active.index] = active['Status'].map(MAP['is_active']['Status'])\n",
    "#\n",
    "# test_data\n",
    "active"
   ]
  },
  {
   "cell_type": "code",
   "execution_count": null,
   "outputs": [],
   "source": [],
   "metadata": {
    "collapsed": false,
    "pycharm": {
     "name": "#%%\n"
    }
   }
  },
  {
   "cell_type": "code",
   "execution_count": 15,
   "outputs": [
    {
     "data": {
      "text/plain": "     CustomerId  CreditScore  Gender  Age Status AssetStage  NumOfProducts  \\\n0      15647311          608       1   41    新客户       中下资产              1   \n2      15577657          732       0   41    老客户        低资产              2   \n4      15687946          556       1   61    新客户       中上资产              1   \n7      15701164          506       1   34   稳定客户       中上资产              1   \n8      15738721          773       0   41    老客户       中上资产              1   \n..          ...          ...     ...  ...    ...        ...            ...   \n990    15726179          757       1   43   稳定客户        高资产              2   \n994    15784042          624       0   55    老客户       中上资产              1   \n995    15732202          615       0   34    新客户       中下资产              2   \n996    15735078          724       1   53    新客户        高资产              2   \n999    15806360          609       0   41   稳定客户        低资产              1   \n\n     HasCrCard  IsActiveMember  EstimatedSalary IsActiveStatus  \\\n0            0               1        112542.58              3   \n2            1               1        170886.17              5   \n4            1               1         94153.83              3   \n7            1               1        159235.29              4   \n8            0               1         64595.25              5   \n..         ...             ...              ...            ...   \n990          1               1          3497.43              4   \n994          1               1         95022.02              5   \n995          1               1         73124.53              3   \n996          1               1         12913.92              3   \n999          0               1        112585.19              4   \n\n    IsActiveAssetStage  CrCardAssetStage  \n0                    7                 2  \n2                    6                 0  \n4                    8                 5  \n7                    8                 5  \n8                    8                 5  \n..                 ...               ...  \n990                  9                 5  \n994                  8                 5  \n995                  7                 2  \n996                  9                 5  \n999                  6                 0  \n\n[447 rows x 13 columns]",
      "text/html": "<div>\n<style scoped>\n    .dataframe tbody tr th:only-of-type {\n        vertical-align: middle;\n    }\n\n    .dataframe tbody tr th {\n        vertical-align: top;\n    }\n\n    .dataframe thead th {\n        text-align: right;\n    }\n</style>\n<table border=\"1\" class=\"dataframe\">\n  <thead>\n    <tr style=\"text-align: right;\">\n      <th></th>\n      <th>CustomerId</th>\n      <th>CreditScore</th>\n      <th>Gender</th>\n      <th>Age</th>\n      <th>Status</th>\n      <th>AssetStage</th>\n      <th>NumOfProducts</th>\n      <th>HasCrCard</th>\n      <th>IsActiveMember</th>\n      <th>EstimatedSalary</th>\n      <th>IsActiveStatus</th>\n      <th>IsActiveAssetStage</th>\n      <th>CrCardAssetStage</th>\n    </tr>\n  </thead>\n  <tbody>\n    <tr>\n      <th>0</th>\n      <td>15647311</td>\n      <td>608</td>\n      <td>1</td>\n      <td>41</td>\n      <td>新客户</td>\n      <td>中下资产</td>\n      <td>1</td>\n      <td>0</td>\n      <td>1</td>\n      <td>112542.58</td>\n      <td>3</td>\n      <td>7</td>\n      <td>2</td>\n    </tr>\n    <tr>\n      <th>2</th>\n      <td>15577657</td>\n      <td>732</td>\n      <td>0</td>\n      <td>41</td>\n      <td>老客户</td>\n      <td>低资产</td>\n      <td>2</td>\n      <td>1</td>\n      <td>1</td>\n      <td>170886.17</td>\n      <td>5</td>\n      <td>6</td>\n      <td>0</td>\n    </tr>\n    <tr>\n      <th>4</th>\n      <td>15687946</td>\n      <td>556</td>\n      <td>1</td>\n      <td>61</td>\n      <td>新客户</td>\n      <td>中上资产</td>\n      <td>1</td>\n      <td>1</td>\n      <td>1</td>\n      <td>94153.83</td>\n      <td>3</td>\n      <td>8</td>\n      <td>5</td>\n    </tr>\n    <tr>\n      <th>7</th>\n      <td>15701164</td>\n      <td>506</td>\n      <td>1</td>\n      <td>34</td>\n      <td>稳定客户</td>\n      <td>中上资产</td>\n      <td>1</td>\n      <td>1</td>\n      <td>1</td>\n      <td>159235.29</td>\n      <td>4</td>\n      <td>8</td>\n      <td>5</td>\n    </tr>\n    <tr>\n      <th>8</th>\n      <td>15738721</td>\n      <td>773</td>\n      <td>0</td>\n      <td>41</td>\n      <td>老客户</td>\n      <td>中上资产</td>\n      <td>1</td>\n      <td>0</td>\n      <td>1</td>\n      <td>64595.25</td>\n      <td>5</td>\n      <td>8</td>\n      <td>5</td>\n    </tr>\n    <tr>\n      <th>...</th>\n      <td>...</td>\n      <td>...</td>\n      <td>...</td>\n      <td>...</td>\n      <td>...</td>\n      <td>...</td>\n      <td>...</td>\n      <td>...</td>\n      <td>...</td>\n      <td>...</td>\n      <td>...</td>\n      <td>...</td>\n      <td>...</td>\n    </tr>\n    <tr>\n      <th>990</th>\n      <td>15726179</td>\n      <td>757</td>\n      <td>1</td>\n      <td>43</td>\n      <td>稳定客户</td>\n      <td>高资产</td>\n      <td>2</td>\n      <td>1</td>\n      <td>1</td>\n      <td>3497.43</td>\n      <td>4</td>\n      <td>9</td>\n      <td>5</td>\n    </tr>\n    <tr>\n      <th>994</th>\n      <td>15784042</td>\n      <td>624</td>\n      <td>0</td>\n      <td>55</td>\n      <td>老客户</td>\n      <td>中上资产</td>\n      <td>1</td>\n      <td>1</td>\n      <td>1</td>\n      <td>95022.02</td>\n      <td>5</td>\n      <td>8</td>\n      <td>5</td>\n    </tr>\n    <tr>\n      <th>995</th>\n      <td>15732202</td>\n      <td>615</td>\n      <td>0</td>\n      <td>34</td>\n      <td>新客户</td>\n      <td>中下资产</td>\n      <td>2</td>\n      <td>1</td>\n      <td>1</td>\n      <td>73124.53</td>\n      <td>3</td>\n      <td>7</td>\n      <td>2</td>\n    </tr>\n    <tr>\n      <th>996</th>\n      <td>15735078</td>\n      <td>724</td>\n      <td>1</td>\n      <td>53</td>\n      <td>新客户</td>\n      <td>高资产</td>\n      <td>2</td>\n      <td>1</td>\n      <td>1</td>\n      <td>12913.92</td>\n      <td>3</td>\n      <td>9</td>\n      <td>5</td>\n    </tr>\n    <tr>\n      <th>999</th>\n      <td>15806360</td>\n      <td>609</td>\n      <td>0</td>\n      <td>41</td>\n      <td>稳定客户</td>\n      <td>低资产</td>\n      <td>1</td>\n      <td>0</td>\n      <td>1</td>\n      <td>112585.19</td>\n      <td>4</td>\n      <td>6</td>\n      <td>0</td>\n    </tr>\n  </tbody>\n</table>\n<p>447 rows × 13 columns</p>\n</div>"
     },
     "execution_count": 15,
     "metadata": {},
     "output_type": "execute_result"
    }
   ],
   "source": [
    "active['IsActiveStatus'] = active['Status'].map(MAP['is_active']['Status'])\n",
    "active['IsActiveAssetStage'] = active['AssetStage'].map(MAP['is_active']['Asset'])\n",
    "active['CrCardAssetStage'] = active['AssetStage'].map(MAP['not_active']['Card'])\n",
    "active"
   ],
   "metadata": {
    "collapsed": false,
    "pycharm": {
     "name": "#%%\n"
    }
   }
  },
  {
   "cell_type": "code",
   "execution_count": 18,
   "metadata": {
    "pycharm": {
     "name": "#%%\n"
    }
   },
   "outputs": [
    {
     "data": {
      "text/plain": "     CustomerId  CreditScore  Gender  Age Status AssetStage  NumOfProducts  \\\n0      15647311          608       1   41    新客户       中下资产              1   \n2      15577657          732       0   41    老客户        低资产              2   \n4      15687946          556       1   61    新客户       中上资产              1   \n7      15701164          506       1   34   稳定客户       中上资产              1   \n8      15738721          773       0   41    老客户       中上资产              1   \n..          ...          ...     ...  ...    ...        ...            ...   \n991    15632446          667       0   24   稳定客户        低资产              2   \n992    15669414          486       0   62    老客户       中上资产              2   \n993    15746569          589       0   38   稳定客户        低资产              1   \n997    15707861          520       1   46    老客户       中下资产              1   \n998    15594612          702       0   44    老客户        低资产              1   \n\n     HasCrCard  IsActiveMember  EstimatedSalary IsActiveStatus  \\\n0            0               1        112542.58              3   \n2            1               1        170886.17              5   \n4            1               1         94153.83              3   \n7            1               1        159235.29              4   \n8            0               1         64595.25              5   \n..         ...             ...              ...            ...   \n991          0               0        180329.83              4   \n992          1               0        168034.83              5   \n993          1               0         95483.48              4   \n997          1               0        117369.52              5   \n998          0               0         59207.41              5   \n\n     IsActiveAssetStage  CrCardAssetStage  \n0                     7                 2  \n2                     6                 0  \n4                     8                 5  \n7                     8                 5  \n8                     8                 5  \n..                  ...               ...  \n991                   0                 0  \n992                   2                 5  \n993                   0                 0  \n997                   1                 2  \n998                   0                 0  \n\n[1000 rows x 13 columns]",
      "text/html": "<div>\n<style scoped>\n    .dataframe tbody tr th:only-of-type {\n        vertical-align: middle;\n    }\n\n    .dataframe tbody tr th {\n        vertical-align: top;\n    }\n\n    .dataframe thead th {\n        text-align: right;\n    }\n</style>\n<table border=\"1\" class=\"dataframe\">\n  <thead>\n    <tr style=\"text-align: right;\">\n      <th></th>\n      <th>CustomerId</th>\n      <th>CreditScore</th>\n      <th>Gender</th>\n      <th>Age</th>\n      <th>Status</th>\n      <th>AssetStage</th>\n      <th>NumOfProducts</th>\n      <th>HasCrCard</th>\n      <th>IsActiveMember</th>\n      <th>EstimatedSalary</th>\n      <th>IsActiveStatus</th>\n      <th>IsActiveAssetStage</th>\n      <th>CrCardAssetStage</th>\n    </tr>\n  </thead>\n  <tbody>\n    <tr>\n      <th>0</th>\n      <td>15647311</td>\n      <td>608</td>\n      <td>1</td>\n      <td>41</td>\n      <td>新客户</td>\n      <td>中下资产</td>\n      <td>1</td>\n      <td>0</td>\n      <td>1</td>\n      <td>112542.58</td>\n      <td>3</td>\n      <td>7</td>\n      <td>2</td>\n    </tr>\n    <tr>\n      <th>2</th>\n      <td>15577657</td>\n      <td>732</td>\n      <td>0</td>\n      <td>41</td>\n      <td>老客户</td>\n      <td>低资产</td>\n      <td>2</td>\n      <td>1</td>\n      <td>1</td>\n      <td>170886.17</td>\n      <td>5</td>\n      <td>6</td>\n      <td>0</td>\n    </tr>\n    <tr>\n      <th>4</th>\n      <td>15687946</td>\n      <td>556</td>\n      <td>1</td>\n      <td>61</td>\n      <td>新客户</td>\n      <td>中上资产</td>\n      <td>1</td>\n      <td>1</td>\n      <td>1</td>\n      <td>94153.83</td>\n      <td>3</td>\n      <td>8</td>\n      <td>5</td>\n    </tr>\n    <tr>\n      <th>7</th>\n      <td>15701164</td>\n      <td>506</td>\n      <td>1</td>\n      <td>34</td>\n      <td>稳定客户</td>\n      <td>中上资产</td>\n      <td>1</td>\n      <td>1</td>\n      <td>1</td>\n      <td>159235.29</td>\n      <td>4</td>\n      <td>8</td>\n      <td>5</td>\n    </tr>\n    <tr>\n      <th>8</th>\n      <td>15738721</td>\n      <td>773</td>\n      <td>0</td>\n      <td>41</td>\n      <td>老客户</td>\n      <td>中上资产</td>\n      <td>1</td>\n      <td>0</td>\n      <td>1</td>\n      <td>64595.25</td>\n      <td>5</td>\n      <td>8</td>\n      <td>5</td>\n    </tr>\n    <tr>\n      <th>...</th>\n      <td>...</td>\n      <td>...</td>\n      <td>...</td>\n      <td>...</td>\n      <td>...</td>\n      <td>...</td>\n      <td>...</td>\n      <td>...</td>\n      <td>...</td>\n      <td>...</td>\n      <td>...</td>\n      <td>...</td>\n      <td>...</td>\n    </tr>\n    <tr>\n      <th>991</th>\n      <td>15632446</td>\n      <td>667</td>\n      <td>0</td>\n      <td>24</td>\n      <td>稳定客户</td>\n      <td>低资产</td>\n      <td>2</td>\n      <td>0</td>\n      <td>0</td>\n      <td>180329.83</td>\n      <td>4</td>\n      <td>0</td>\n      <td>0</td>\n    </tr>\n    <tr>\n      <th>992</th>\n      <td>15669414</td>\n      <td>486</td>\n      <td>0</td>\n      <td>62</td>\n      <td>老客户</td>\n      <td>中上资产</td>\n      <td>2</td>\n      <td>1</td>\n      <td>0</td>\n      <td>168034.83</td>\n      <td>5</td>\n      <td>2</td>\n      <td>5</td>\n    </tr>\n    <tr>\n      <th>993</th>\n      <td>15746569</td>\n      <td>589</td>\n      <td>0</td>\n      <td>38</td>\n      <td>稳定客户</td>\n      <td>低资产</td>\n      <td>1</td>\n      <td>1</td>\n      <td>0</td>\n      <td>95483.48</td>\n      <td>4</td>\n      <td>0</td>\n      <td>0</td>\n    </tr>\n    <tr>\n      <th>997</th>\n      <td>15707861</td>\n      <td>520</td>\n      <td>1</td>\n      <td>46</td>\n      <td>老客户</td>\n      <td>中下资产</td>\n      <td>1</td>\n      <td>1</td>\n      <td>0</td>\n      <td>117369.52</td>\n      <td>5</td>\n      <td>1</td>\n      <td>2</td>\n    </tr>\n    <tr>\n      <th>998</th>\n      <td>15594612</td>\n      <td>702</td>\n      <td>0</td>\n      <td>44</td>\n      <td>老客户</td>\n      <td>低资产</td>\n      <td>1</td>\n      <td>0</td>\n      <td>0</td>\n      <td>59207.41</td>\n      <td>5</td>\n      <td>0</td>\n      <td>0</td>\n    </tr>\n  </tbody>\n</table>\n<p>1000 rows × 13 columns</p>\n</div>"
     },
     "execution_count": 18,
     "metadata": {},
     "output_type": "execute_result"
    }
   ],
   "source": [
    "not_active = test_data[test_data['IsActiveMember'] == 0]\n",
    "not_active['IsActiveStatus'] = not_active['Status'].map(MAP['is_active']['Status'])\n",
    "not_active['IsActiveAssetStage'] = not_active['AssetStage'].map(MAP['not_active']['Asset'])\n",
    "not_active['CrCardAssetStage'] = not_active['AssetStage'].map(MAP['not_active']['Card'])\n",
    "# test_data['IsActiveStatus'].loc[active.index] = active['Status'].map(MAP['is_active']['Status'])\n",
    "#\n",
    "# test_data\n",
    "active_ = pd.concat([active, not_active])\n",
    "active_"
   ]
  },
  {
   "cell_type": "code",
   "execution_count": 19,
   "metadata": {
    "pycharm": {
     "name": "#%%\n"
    }
   },
   "outputs": [
    {
     "data": {
      "text/plain": "     CustomerId  CreditScore  Gender  Age Status AssetStage  NumOfProducts  \\\n0      15647311          608       1   41    新客户       中下资产              1   \n1      15737452          653       0   58    新客户        高资产              1   \n2      15577657          732       0   41    老客户        低资产              2   \n3      15589475          591       1   39    新客户        低资产              3   \n4      15687946          556       1   61    新客户       中上资产              1   \n..          ...          ...     ...  ...    ...        ...            ...   \n995    15732202          615       0   34    新客户       中下资产              2   \n996    15735078          724       1   53    新客户        高资产              2   \n997    15707861          520       1   46    老客户       中下资产              1   \n998    15594612          702       0   44    老客户        低资产              1   \n999    15806360          609       0   41   稳定客户        低资产              1   \n\n     HasCrCard  IsActiveMember  EstimatedSalary IsActiveStatus  \\\n0            0               1        112542.58              3   \n1            1               0          5097.67              3   \n2            1               1        170886.17              5   \n3            1               0        140469.38              3   \n4            1               1         94153.83              3   \n..         ...             ...              ...            ...   \n995          1               1         73124.53              3   \n996          1               1         12913.92              3   \n997          1               0        117369.52              5   \n998          0               0         59207.41              5   \n999          0               1        112585.19              4   \n\n     IsActiveAssetStage  CrCardAssetStage  \n0                     7                 2  \n1                     3                 5  \n2                     6                 0  \n3                     0                 0  \n4                     8                 5  \n..                  ...               ...  \n995                   7                 2  \n996                   9                 5  \n997                   1                 2  \n998                   0                 0  \n999                   6                 0  \n\n[1000 rows x 13 columns]",
      "text/html": "<div>\n<style scoped>\n    .dataframe tbody tr th:only-of-type {\n        vertical-align: middle;\n    }\n\n    .dataframe tbody tr th {\n        vertical-align: top;\n    }\n\n    .dataframe thead th {\n        text-align: right;\n    }\n</style>\n<table border=\"1\" class=\"dataframe\">\n  <thead>\n    <tr style=\"text-align: right;\">\n      <th></th>\n      <th>CustomerId</th>\n      <th>CreditScore</th>\n      <th>Gender</th>\n      <th>Age</th>\n      <th>Status</th>\n      <th>AssetStage</th>\n      <th>NumOfProducts</th>\n      <th>HasCrCard</th>\n      <th>IsActiveMember</th>\n      <th>EstimatedSalary</th>\n      <th>IsActiveStatus</th>\n      <th>IsActiveAssetStage</th>\n      <th>CrCardAssetStage</th>\n    </tr>\n  </thead>\n  <tbody>\n    <tr>\n      <th>0</th>\n      <td>15647311</td>\n      <td>608</td>\n      <td>1</td>\n      <td>41</td>\n      <td>新客户</td>\n      <td>中下资产</td>\n      <td>1</td>\n      <td>0</td>\n      <td>1</td>\n      <td>112542.58</td>\n      <td>3</td>\n      <td>7</td>\n      <td>2</td>\n    </tr>\n    <tr>\n      <th>1</th>\n      <td>15737452</td>\n      <td>653</td>\n      <td>0</td>\n      <td>58</td>\n      <td>新客户</td>\n      <td>高资产</td>\n      <td>1</td>\n      <td>1</td>\n      <td>0</td>\n      <td>5097.67</td>\n      <td>3</td>\n      <td>3</td>\n      <td>5</td>\n    </tr>\n    <tr>\n      <th>2</th>\n      <td>15577657</td>\n      <td>732</td>\n      <td>0</td>\n      <td>41</td>\n      <td>老客户</td>\n      <td>低资产</td>\n      <td>2</td>\n      <td>1</td>\n      <td>1</td>\n      <td>170886.17</td>\n      <td>5</td>\n      <td>6</td>\n      <td>0</td>\n    </tr>\n    <tr>\n      <th>3</th>\n      <td>15589475</td>\n      <td>591</td>\n      <td>1</td>\n      <td>39</td>\n      <td>新客户</td>\n      <td>低资产</td>\n      <td>3</td>\n      <td>1</td>\n      <td>0</td>\n      <td>140469.38</td>\n      <td>3</td>\n      <td>0</td>\n      <td>0</td>\n    </tr>\n    <tr>\n      <th>4</th>\n      <td>15687946</td>\n      <td>556</td>\n      <td>1</td>\n      <td>61</td>\n      <td>新客户</td>\n      <td>中上资产</td>\n      <td>1</td>\n      <td>1</td>\n      <td>1</td>\n      <td>94153.83</td>\n      <td>3</td>\n      <td>8</td>\n      <td>5</td>\n    </tr>\n    <tr>\n      <th>...</th>\n      <td>...</td>\n      <td>...</td>\n      <td>...</td>\n      <td>...</td>\n      <td>...</td>\n      <td>...</td>\n      <td>...</td>\n      <td>...</td>\n      <td>...</td>\n      <td>...</td>\n      <td>...</td>\n      <td>...</td>\n      <td>...</td>\n    </tr>\n    <tr>\n      <th>995</th>\n      <td>15732202</td>\n      <td>615</td>\n      <td>0</td>\n      <td>34</td>\n      <td>新客户</td>\n      <td>中下资产</td>\n      <td>2</td>\n      <td>1</td>\n      <td>1</td>\n      <td>73124.53</td>\n      <td>3</td>\n      <td>7</td>\n      <td>2</td>\n    </tr>\n    <tr>\n      <th>996</th>\n      <td>15735078</td>\n      <td>724</td>\n      <td>1</td>\n      <td>53</td>\n      <td>新客户</td>\n      <td>高资产</td>\n      <td>2</td>\n      <td>1</td>\n      <td>1</td>\n      <td>12913.92</td>\n      <td>3</td>\n      <td>9</td>\n      <td>5</td>\n    </tr>\n    <tr>\n      <th>997</th>\n      <td>15707861</td>\n      <td>520</td>\n      <td>1</td>\n      <td>46</td>\n      <td>老客户</td>\n      <td>中下资产</td>\n      <td>1</td>\n      <td>1</td>\n      <td>0</td>\n      <td>117369.52</td>\n      <td>5</td>\n      <td>1</td>\n      <td>2</td>\n    </tr>\n    <tr>\n      <th>998</th>\n      <td>15594612</td>\n      <td>702</td>\n      <td>0</td>\n      <td>44</td>\n      <td>老客户</td>\n      <td>低资产</td>\n      <td>1</td>\n      <td>0</td>\n      <td>0</td>\n      <td>59207.41</td>\n      <td>5</td>\n      <td>0</td>\n      <td>0</td>\n    </tr>\n    <tr>\n      <th>999</th>\n      <td>15806360</td>\n      <td>609</td>\n      <td>0</td>\n      <td>41</td>\n      <td>稳定客户</td>\n      <td>低资产</td>\n      <td>1</td>\n      <td>0</td>\n      <td>1</td>\n      <td>112585.19</td>\n      <td>4</td>\n      <td>6</td>\n      <td>0</td>\n    </tr>\n  </tbody>\n</table>\n<p>1000 rows × 13 columns</p>\n</div>"
     },
     "execution_count": 19,
     "metadata": {},
     "output_type": "execute_result"
    }
   ],
   "source": [
    "active_.sort_index(inplace=True)\n",
    "active_"
   ]
  },
  {
   "cell_type": "code",
   "execution_count": 25,
   "outputs": [],
   "source": [
    "import joblib\n",
    "\n",
    "model = joblib.load('./bestmodel.model')\n",
    "data = active_[['Age', 'AssetStage', 'NumOfProducts',  'EstimatedSalary', 'IsActiveStatus',\n",
    "                'CrCardAssetStage']]"
   ],
   "metadata": {
    "collapsed": false,
    "pycharm": {
     "name": "#%%\n"
    }
   }
  },
  {
   "cell_type": "code",
   "execution_count": 26,
   "outputs": [
    {
     "name": "stdout",
     "output_type": "stream",
     "text": [
      "<class 'pandas.core.frame.DataFrame'>\n",
      "Int64Index: 1000 entries, 0 to 999\n",
      "Data columns (total 6 columns):\n",
      " #   Column            Non-Null Count  Dtype   \n",
      "---  ------            --------------  -----   \n",
      " 0   Age               1000 non-null   int64   \n",
      " 1   AssetStage        1000 non-null   category\n",
      " 2   NumOfProducts     1000 non-null   int64   \n",
      " 3   EstimatedSalary   1000 non-null   float64 \n",
      " 4   IsActiveStatus    1000 non-null   category\n",
      " 5   CrCardAssetStage  1000 non-null   int64   \n",
      "dtypes: category(2), float64(1), int64(3)\n",
      "memory usage: 41.3 KB\n"
     ]
    }
   ],
   "source": [
    "data.info()"
   ],
   "metadata": {
    "collapsed": false,
    "pycharm": {
     "name": "#%%\n"
    }
   }
  },
  {
   "cell_type": "code",
   "execution_count": 27,
   "outputs": [
    {
     "ename": "ValueError",
     "evalue": "DataFrame.dtypes for data must be int, float, bool or category.  When\ncategorical type is supplied, DMatrix parameter `enable_categorical` must\nbe set to `True`. Invalid columns:AssetStage, IsActiveStatus",
     "output_type": "error",
     "traceback": [
      "\u001B[1;31m---------------------------------------------------------------------------\u001B[0m",
      "\u001B[1;31mValueError\u001B[0m                                Traceback (most recent call last)",
      "\u001B[1;32m~\\AppData\\Local\\Temp/ipykernel_22760/1761301782.py\u001B[0m in \u001B[0;36m<module>\u001B[1;34m\u001B[0m\n\u001B[1;32m----> 1\u001B[1;33m \u001B[0mmodel\u001B[0m\u001B[1;33m.\u001B[0m\u001B[0mpredict\u001B[0m\u001B[1;33m(\u001B[0m\u001B[0mdata\u001B[0m\u001B[1;33m)\u001B[0m\u001B[1;33m\u001B[0m\u001B[1;33m\u001B[0m\u001B[0m\n\u001B[0m\u001B[0;32m      2\u001B[0m \u001B[1;33m\u001B[0m\u001B[0m\n",
      "\u001B[1;32mD:\\Language\\Anaconda\\lib\\site-packages\\xgboost\\sklearn.py\u001B[0m in \u001B[0;36mpredict\u001B[1;34m(self, X, output_margin, ntree_limit, validate_features, base_margin, iteration_range)\u001B[0m\n\u001B[0;32m   1432\u001B[0m         \u001B[0miteration_range\u001B[0m\u001B[1;33m:\u001B[0m \u001B[0mOptional\u001B[0m\u001B[1;33m[\u001B[0m\u001B[0mTuple\u001B[0m\u001B[1;33m[\u001B[0m\u001B[0mint\u001B[0m\u001B[1;33m,\u001B[0m \u001B[0mint\u001B[0m\u001B[1;33m]\u001B[0m\u001B[1;33m]\u001B[0m \u001B[1;33m=\u001B[0m \u001B[1;32mNone\u001B[0m\u001B[1;33m,\u001B[0m\u001B[1;33m\u001B[0m\u001B[1;33m\u001B[0m\u001B[0m\n\u001B[0;32m   1433\u001B[0m     ) -> np.ndarray:\n\u001B[1;32m-> 1434\u001B[1;33m         class_probs = super().predict(\n\u001B[0m\u001B[0;32m   1435\u001B[0m             \u001B[0mX\u001B[0m\u001B[1;33m=\u001B[0m\u001B[0mX\u001B[0m\u001B[1;33m,\u001B[0m\u001B[1;33m\u001B[0m\u001B[1;33m\u001B[0m\u001B[0m\n\u001B[0;32m   1436\u001B[0m             \u001B[0moutput_margin\u001B[0m\u001B[1;33m=\u001B[0m\u001B[0moutput_margin\u001B[0m\u001B[1;33m,\u001B[0m\u001B[1;33m\u001B[0m\u001B[1;33m\u001B[0m\u001B[0m\n",
      "\u001B[1;32mD:\\Language\\Anaconda\\lib\\site-packages\\xgboost\\sklearn.py\u001B[0m in \u001B[0;36mpredict\u001B[1;34m(self, X, output_margin, ntree_limit, validate_features, base_margin, iteration_range)\u001B[0m\n\u001B[0;32m   1047\u001B[0m         \u001B[1;32mif\u001B[0m \u001B[0mself\u001B[0m\u001B[1;33m.\u001B[0m\u001B[0m_can_use_inplace_predict\u001B[0m\u001B[1;33m(\u001B[0m\u001B[1;33m)\u001B[0m\u001B[1;33m:\u001B[0m\u001B[1;33m\u001B[0m\u001B[1;33m\u001B[0m\u001B[0m\n\u001B[0;32m   1048\u001B[0m             \u001B[1;32mtry\u001B[0m\u001B[1;33m:\u001B[0m\u001B[1;33m\u001B[0m\u001B[1;33m\u001B[0m\u001B[0m\n\u001B[1;32m-> 1049\u001B[1;33m                 predts = self.get_booster().inplace_predict(\n\u001B[0m\u001B[0;32m   1050\u001B[0m                     \u001B[0mdata\u001B[0m\u001B[1;33m=\u001B[0m\u001B[0mX\u001B[0m\u001B[1;33m,\u001B[0m\u001B[1;33m\u001B[0m\u001B[1;33m\u001B[0m\u001B[0m\n\u001B[0;32m   1051\u001B[0m                     \u001B[0miteration_range\u001B[0m\u001B[1;33m=\u001B[0m\u001B[0miteration_range\u001B[0m\u001B[1;33m,\u001B[0m\u001B[1;33m\u001B[0m\u001B[1;33m\u001B[0m\u001B[0m\n",
      "\u001B[1;32mD:\\Language\\Anaconda\\lib\\site-packages\\xgboost\\core.py\u001B[0m in \u001B[0;36minplace_predict\u001B[1;34m(self, data, iteration_range, predict_type, missing, validate_features, base_margin, strict_shape)\u001B[0m\n\u001B[0;32m   2140\u001B[0m         \u001B[0menable_categorical\u001B[0m \u001B[1;33m=\u001B[0m \u001B[0m_has_categorical\u001B[0m\u001B[1;33m(\u001B[0m\u001B[0mself\u001B[0m\u001B[1;33m,\u001B[0m \u001B[0mdata\u001B[0m\u001B[1;33m)\u001B[0m\u001B[1;33m\u001B[0m\u001B[1;33m\u001B[0m\u001B[0m\n\u001B[0;32m   2141\u001B[0m         \u001B[1;32mif\u001B[0m \u001B[0m_is_pandas_df\u001B[0m\u001B[1;33m(\u001B[0m\u001B[0mdata\u001B[0m\u001B[1;33m)\u001B[0m\u001B[1;33m:\u001B[0m\u001B[1;33m\u001B[0m\u001B[1;33m\u001B[0m\u001B[0m\n\u001B[1;32m-> 2142\u001B[1;33m             \u001B[0mdata\u001B[0m\u001B[1;33m,\u001B[0m \u001B[0m_\u001B[0m\u001B[1;33m,\u001B[0m \u001B[0m_\u001B[0m \u001B[1;33m=\u001B[0m \u001B[0m_transform_pandas_df\u001B[0m\u001B[1;33m(\u001B[0m\u001B[0mdata\u001B[0m\u001B[1;33m,\u001B[0m \u001B[0menable_categorical\u001B[0m\u001B[1;33m)\u001B[0m\u001B[1;33m\u001B[0m\u001B[1;33m\u001B[0m\u001B[0m\n\u001B[0m\u001B[0;32m   2143\u001B[0m \u001B[1;33m\u001B[0m\u001B[0m\n\u001B[0;32m   2144\u001B[0m         \u001B[1;32mif\u001B[0m \u001B[0misinstance\u001B[0m\u001B[1;33m(\u001B[0m\u001B[0mdata\u001B[0m\u001B[1;33m,\u001B[0m \u001B[0mnp\u001B[0m\u001B[1;33m.\u001B[0m\u001B[0mndarray\u001B[0m\u001B[1;33m)\u001B[0m\u001B[1;33m:\u001B[0m\u001B[1;33m\u001B[0m\u001B[1;33m\u001B[0m\u001B[0m\n",
      "\u001B[1;32mD:\\Language\\Anaconda\\lib\\site-packages\\xgboost\\data.py\u001B[0m in \u001B[0;36m_transform_pandas_df\u001B[1;34m(data, enable_categorical, feature_names, feature_types, meta, meta_type)\u001B[0m\n\u001B[0;32m    280\u001B[0m         \u001B[1;32mfor\u001B[0m \u001B[0mdtype\u001B[0m \u001B[1;32min\u001B[0m \u001B[0mdata\u001B[0m\u001B[1;33m.\u001B[0m\u001B[0mdtypes\u001B[0m\u001B[1;33m\u001B[0m\u001B[1;33m\u001B[0m\u001B[0m\n\u001B[0;32m    281\u001B[0m     ):\n\u001B[1;32m--> 282\u001B[1;33m         \u001B[0m_invalid_dataframe_dtype\u001B[0m\u001B[1;33m(\u001B[0m\u001B[0mdata\u001B[0m\u001B[1;33m)\u001B[0m\u001B[1;33m\u001B[0m\u001B[1;33m\u001B[0m\u001B[0m\n\u001B[0m\u001B[0;32m    283\u001B[0m \u001B[1;33m\u001B[0m\u001B[0m\n\u001B[0;32m    284\u001B[0m     \u001B[1;31m# handle feature names\u001B[0m\u001B[1;33m\u001B[0m\u001B[1;33m\u001B[0m\u001B[0m\n",
      "\u001B[1;32mD:\\Language\\Anaconda\\lib\\site-packages\\xgboost\\data.py\u001B[0m in \u001B[0;36m_invalid_dataframe_dtype\u001B[1;34m(data)\u001B[0m\n\u001B[0;32m    244\u001B[0m \u001B[0mcategorical\u001B[0m \u001B[0mtype\u001B[0m \u001B[1;32mis\u001B[0m \u001B[0msupplied\u001B[0m\u001B[1;33m,\u001B[0m \u001B[0mDMatrix\u001B[0m \u001B[0mparameter\u001B[0m\u001B[0;31m \u001B[0m\u001B[0;31m`\u001B[0m\u001B[0menable_categorical\u001B[0m\u001B[0;31m`\u001B[0m \u001B[0mmust\u001B[0m\u001B[1;33m\u001B[0m\u001B[1;33m\u001B[0m\u001B[0m\n\u001B[0;32m    245\u001B[0m be set to `True`.\"\"\" + err\n\u001B[1;32m--> 246\u001B[1;33m     \u001B[1;32mraise\u001B[0m \u001B[0mValueError\u001B[0m\u001B[1;33m(\u001B[0m\u001B[0mmsg\u001B[0m\u001B[1;33m)\u001B[0m\u001B[1;33m\u001B[0m\u001B[1;33m\u001B[0m\u001B[0m\n\u001B[0m\u001B[0;32m    247\u001B[0m \u001B[1;33m\u001B[0m\u001B[0m\n\u001B[0;32m    248\u001B[0m \u001B[1;33m\u001B[0m\u001B[0m\n",
      "\u001B[1;31mValueError\u001B[0m: DataFrame.dtypes for data must be int, float, bool or category.  When\ncategorical type is supplied, DMatrix parameter `enable_categorical` must\nbe set to `True`. Invalid columns:AssetStage, IsActiveStatus"
     ]
    }
   ],
   "source": [
    "model.predict(data)\n"
   ],
   "metadata": {
    "collapsed": false,
    "pycharm": {
     "name": "#%%\n"
    }
   }
  },
  {
   "cell_type": "code",
   "execution_count": null,
   "outputs": [],
   "source": [],
   "metadata": {
    "collapsed": false,
    "pycharm": {
     "name": "#%%\n"
    }
   }
  }
 ],
 "metadata": {
  "kernelspec": {
   "display_name": "Python 3 (ipykernel)",
   "language": "python",
   "name": "python3"
  },
  "language_info": {
   "codemirror_mode": {
    "name": "ipython",
    "version": 3
   },
   "file_extension": ".py",
   "mimetype": "text/x-python",
   "name": "python",
   "nbconvert_exporter": "python",
   "pygments_lexer": "ipython3",
   "version": "3.9.7"
  }
 },
 "nbformat": 4,
 "nbformat_minor": 1
}